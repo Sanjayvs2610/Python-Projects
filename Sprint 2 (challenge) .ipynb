{
 "cells": [
  {
   "cell_type": "markdown",
   "id": "ce53ebb4",
   "metadata": {},
   "source": [
    "# Sprint 2 (challenge)"
   ]
  },
  {
   "cell_type": "markdown",
   "id": "1f723976",
   "metadata": {},
   "source": [
    "### Task 1 -  "
   ]
  },
  {
   "cell_type": "code",
   "execution_count": 28,
   "id": "b8f5ecfe",
   "metadata": {},
   "outputs": [
    {
     "name": "stdout",
     "output_type": "stream",
     "text": [
      "Enter the year between 1900 t0 2100 :2026\n",
      "2026 it's not a leap year\n"
     ]
    }
   ],
   "source": [
    "year=int(input(\"Enter the year between 1900 t0 2100 :\"))\n",
    "if 1900<year<2100:\n",
    "    \n",
    "    if (year%4)==0:\n",
    "        print(year,\"it's a leap year,\")\n",
    "        if (year%100)==0:\n",
    "            print(year,\"it's not a leap year \")\n",
    "            if (year%400)==0:\n",
    "                print(year,\"it's a leap year\")\n",
    "            else:\n",
    "                print(year,\"it's not a leap year\")\n",
    "        else:\n",
    "            print(year,\"it's a leap year\")\n",
    "    else:\n",
    "        print(year,\"it's not a leap year\")\n",
    "else:\n",
    "    print(\"ERROR\")"
   ]
  },
  {
   "cell_type": "markdown",
   "id": "a3afa219",
   "metadata": {},
   "source": [
    "interpretation - Here is the program for to find leap years , years between 1900 to 2100"
   ]
  },
  {
   "cell_type": "markdown",
   "id": "5823af32",
   "metadata": {},
   "source": [
    "### Task 2 - "
   ]
  },
  {
   "cell_type": "code",
   "execution_count": 8,
   "id": "5feffd63",
   "metadata": {},
   "outputs": [
    {
     "name": "stdout",
     "output_type": "stream",
     "text": [
      "Enter the month:76\n",
      "ERROR\n"
     ]
    }
   ],
   "source": [
    "month=int(input(\"Enter the month:\"))\n",
    "if month==1:\n",
    "    print(\"january=31days\")\n",
    "elif month==2:\n",
    "    print(\"february=28days\")\n",
    "elif month==3:\n",
    "    print(\"march=31days\")\n",
    "elif month==4:\n",
    "    print(\"april=30days\")\n",
    "elif month==5:\n",
    "    print(\"may=31days\")\n",
    "elif month==6:\n",
    "    print(\"june=30days\")\n",
    "elif month==7:\n",
    "    print(\"july=31days\")\n",
    "elif month==8:\n",
    "    print(\"august=31days\")\n",
    "elif month==9:\n",
    "    print(\"september=30days\")\n",
    "elif month==10:\n",
    "    print(\"october=31days\")\n",
    "elif month==11:\n",
    "    print(\"november=30days\")\n",
    "elif month==12:\n",
    "    print(\"december=31days\")\n",
    "else:\n",
    "    print(\"ERROR\")"
   ]
  },
  {
   "cell_type": "markdown",
   "id": "a8dba9d6",
   "metadata": {},
   "source": [
    "interpretation - Here is the program to display the month and the no. of days in the month"
   ]
  },
  {
   "cell_type": "markdown",
   "id": "f55595d6",
   "metadata": {},
   "source": [
    "## Task 3 - "
   ]
  },
  {
   "cell_type": "code",
   "execution_count": 13,
   "id": "878eb0cd",
   "metadata": {},
   "outputs": [
    {
     "name": "stdout",
     "output_type": "stream",
     "text": [
      "Enter the amount: 356\n",
      "Total amount after discount = 445.0\n"
     ]
    }
   ],
   "source": [
    "amount=int(input(\"Enter the amount: \"))\n",
    "if amount<100:\n",
    "    print(\"Total amount after discount =\",amount)\n",
    "elif 100<=amount<=150:\n",
    "    print(\"Total amount after discount =\",amount+amount*0.1)\n",
    "elif 150<=amount<=250:\n",
    "    print(\"Total amount after discount =\",amount+amount*0.15)\n",
    "else:\n",
    "    print(\"Total amount after discount =\",amount+amount*0.25)"
   ]
  },
  {
   "cell_type": "markdown",
   "id": "facb198c",
   "metadata": {},
   "source": [
    "interpretation - Here is the program for the total amount after the discount has been calculated."
   ]
  },
  {
   "cell_type": "markdown",
   "id": "c277d715",
   "metadata": {},
   "source": [
    "## Task 4 - "
   ]
  },
  {
   "cell_type": "code",
   "execution_count": null,
   "id": "0b2f6185",
   "metadata": {},
   "outputs": [],
   "source": []
  },
  {
   "cell_type": "code",
   "execution_count": 4,
   "id": "3b119ae2",
   "metadata": {},
   "outputs": [
    {
     "name": "stdout",
     "output_type": "stream",
     "text": [
      "computer choice: scissor\n",
      "Enter the choice rock, paper, scissor: paper\n",
      "The winner is a:computer\n"
     ]
    }
   ],
   "source": [
    "\n",
    "import random\n",
    "\n",
    "computer = [\"rock\", \"paper\", \"scissor\"]\n",
    "\n",
    "a = random.choice(computer)\n",
    "\n",
    "print(\"computer choice:\",a)\n",
    "\n",
    "b = input(\"Enter the choice rock, paper, scissor: \")\n",
    "\n",
    "if a==\"rock\" and b==\"paper\":\n",
    "    print(\"The winner is b:user\")\n",
    "elif a==\"rock\" and b==\"scissors\":\n",
    "    print(\"The winner is a:computer\")\n",
    "elif a==\"rock\" and b==\"rock\":\n",
    "    print(\"Draw\")\n",
    "elif a==\"paper\" and b==\"rock\":\n",
    "    print(\"The winner is a:computer\")\n",
    "elif a==\"paper\" and b==\"scissor\":\n",
    "    print(\"The winner is b:user\")\n",
    "elif a==\"paper\" and b==\"paper\":\n",
    "    print(\"Draw\")\n",
    "elif a==\"scissor\" and b==\"rock\":\n",
    "    print(\"The winner is b:user\")\n",
    "elif a==\"scissor\" and b==\"paper\":\n",
    "    print(\"The winner is a:computer\")\n",
    "elif a==\"scissor\" and b==\"scissor\":\n",
    "    print(\"Draw\")\n",
    "else :\n",
    "    print(\"ERROR:invalid choice\")"
   ]
  },
  {
   "cell_type": "code",
   "execution_count": null,
   "id": "9040c9b8",
   "metadata": {},
   "outputs": [],
   "source": []
  },
  {
   "cell_type": "code",
   "execution_count": null,
   "id": "4e636744",
   "metadata": {},
   "outputs": [],
   "source": []
  }
 ],
 "metadata": {
  "kernelspec": {
   "display_name": "Python 3 (ipykernel)",
   "language": "python",
   "name": "python3"
  },
  "language_info": {
   "codemirror_mode": {
    "name": "ipython",
    "version": 3
   },
   "file_extension": ".py",
   "mimetype": "text/x-python",
   "name": "python",
   "nbconvert_exporter": "python",
   "pygments_lexer": "ipython3",
   "version": "3.11.3"
  }
 },
 "nbformat": 4,
 "nbformat_minor": 5
}
