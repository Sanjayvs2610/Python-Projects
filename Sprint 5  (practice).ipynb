{
 "cells": [
  {
   "cell_type": "markdown",
   "id": "195aba15",
   "metadata": {},
   "source": [
    "# Sprint 5 - Practice "
   ]
  },
  {
   "cell_type": "markdown",
   "id": "e8c911a6",
   "metadata": {},
   "source": [
    "### Task 1 - Checking if a word is a palindrome "
   ]
  },
  {
   "cell_type": "code",
   "execution_count": 1,
   "id": "7702c50e",
   "metadata": {},
   "outputs": [
    {
     "name": "stdout",
     "output_type": "stream",
     "text": [
      "Enter a word: dad\n",
      "dad is a palindrome.\n"
     ]
    }
   ],
   "source": [
    "def palindrome(word):\n",
    "    # Convert the word to lowercase to ignore capitalization\n",
    "    word = word.lower()\n",
    "    \n",
    "    return word == word[::-1]\n",
    "\n",
    "user_input = input(\"Enter a word: \")\n",
    "\n",
    "if palindrome(user_input):\n",
    "    print(f\"{user_input} is a palindrome.\")\n",
    "else:\n",
    "    print(f\"{user_input} is not a palindrome.\")\n",
    "\n"
   ]
  },
  {
   "cell_type": "markdown",
   "id": "c1abd269",
   "metadata": {},
   "source": [
    "interpretation - Here is the program to check, whether the given word is palindrome or not "
   ]
  },
  {
   "cell_type": "markdown",
   "id": "9c87fbd6",
   "metadata": {},
   "source": [
    "### Task 2 - Sorting words "
   ]
  },
  {
   "cell_type": "code",
   "execution_count": 2,
   "id": "f2b8f423",
   "metadata": {},
   "outputs": [
    {
     "name": "stdout",
     "output_type": "stream",
     "text": [
      "Enter the words with space betwwen next words: apple mango orange strawberry\n",
      "['apple', 'mango', 'orange', 'strawberry']\n"
     ]
    }
   ],
   "source": [
    "def sort_words():\n",
    "    words = input(\"Enter the words with space betwwen next words: \").split()\n",
    "    words.sort()\n",
    "    print(words)\n",
    "\n",
    "sort_words()\n"
   ]
  },
  {
   "cell_type": "markdown",
   "id": "cd9d1ad9",
   "metadata": {},
   "source": [
    "Interpretation - Here is the output of sorting the given words by user by arranging it in alphabatical order"
   ]
  },
  {
   "cell_type": "markdown",
   "id": "0ee32bde",
   "metadata": {},
   "source": [
    "### Task  3 - Converting characters to a string "
   ]
  },
  {
   "cell_type": "code",
   "execution_count": 9,
   "id": "6eb6da7f",
   "metadata": {},
   "outputs": [
    {
     "name": "stdout",
     "output_type": "stream",
     "text": [
      "Enter the character and split by , :a,p,p,l,e\n",
      "apple\n"
     ]
    }
   ],
   "source": [
    "def string():\n",
    "    characters = input(\"Enter the character and split by , :\").split(\",\")\n",
    "    combine = \"\".join(characters)\n",
    "    print(combine)\n",
    "string()    "
   ]
  },
  {
   "cell_type": "markdown",
   "id": "4e5f5a7c",
   "metadata": {},
   "source": [
    "Interpretation - Here i have joined the characters and made as a string by using join operator."
   ]
  },
  {
   "cell_type": "markdown",
   "id": "6c32655a",
   "metadata": {},
   "source": [
    "### Task 4 - Picking up the large and smallest element "
   ]
  },
  {
   "cell_type": "code",
   "execution_count": 16,
   "id": "76bfe39f",
   "metadata": {},
   "outputs": [
    {
     "name": "stdout",
     "output_type": "stream",
     "text": [
      "Enter the numbers separated by commas: 1,3,2,6,4,5,7,9,10,8\n",
      "The entered numbers are: [1, 2, 3, 4, 5, 6, 7, 8, 9, 10]\n",
      "Minimum number: 1\n",
      "Maximum number: 10\n"
     ]
    }
   ],
   "source": [
    "def numbers():\n",
    "    num_str = input(\"Enter the numbers separated by commas: \")\n",
    "    num_list = [int(x) for x in num_str.split(\",\")]\n",
    "    num_list.sort()\n",
    "    \n",
    "    min_num = num_list[0]  # The first element after sorting is the minimum\n",
    "    max_num = num_list[-1]  # The last element after sorting is the maximum\n",
    "    \n",
    "    print(\"The entered numbers are:\", num_list)\n",
    "    print(\"Minimum number:\", min_num)\n",
    "    print(\"Maximum number:\", max_num)\n",
    "\n",
    "numbers()\n"
   ]
  },
  {
   "cell_type": "markdown",
   "id": "7bedb5d7",
   "metadata": {},
   "source": [
    "Interpretation - Here , i have find out the minimum and maximum numbers from 1 to 10 by using min() and max() functions"
   ]
  },
  {
   "cell_type": "markdown",
   "id": "4936fe05",
   "metadata": {},
   "source": [
    "### Task  5 - Searching a dictionary "
   ]
  },
  {
   "cell_type": "code",
   "execution_count": 5,
   "id": "9c3832e0",
   "metadata": {},
   "outputs": [
    {
     "name": "stdout",
     "output_type": "stream",
     "text": [
      "max_value =  49.89\n",
      "min_value =  29\n"
     ]
    }
   ],
   "source": [
    "data = {\n",
    "    'item 1': 45.50,\n",
    "    'Item 2': 35,\n",
    "    'item 3': 41.30,\n",
    "    'Item 4': 29,\n",
    "    'Item 5': 49.89\n",
    "}  \n",
    "max_value = max(data.values())\n",
    "min_value = min(data.values())\n",
    "\n",
    "print(\"max_value = \",max_value)\n",
    "print(\"min_value = \",min_value)"
   ]
  },
  {
   "cell_type": "markdown",
   "id": "7b1ca97a",
   "metadata": {},
   "source": [
    "Interpretation - I have taken the max_value and min_value from the above data"
   ]
  },
  {
   "cell_type": "markdown",
   "id": "bbc818ec",
   "metadata": {},
   "source": [
    "### Task 6  - Generating profile card "
   ]
  },
  {
   "cell_type": "code",
   "execution_count": 7,
   "id": "55932620",
   "metadata": {},
   "outputs": [],
   "source": [
    "def f1(name,age,gender,occupation):\n",
    "    \n",
    "    print(\"Name : \",name)\n",
    "    print(\"Age : \",age)\n",
    "    print(\"Gender : \",gender)\n",
    "    print(\"Occupation : \",occupation)\n",
    "    return"
   ]
  },
  {
   "cell_type": "code",
   "execution_count": 8,
   "id": "16757354",
   "metadata": {},
   "outputs": [
    {
     "name": "stdout",
     "output_type": "stream",
     "text": [
      "Name :  Sanjay\n",
      "Age :  20\n",
      "Gender :  Male\n",
      "Occupation :  Data_Analyst\n"
     ]
    }
   ],
   "source": [
    "f1(\"Sanjay\",20,\"Male\",\"Data_Analyst\")"
   ]
  },
  {
   "cell_type": "markdown",
   "id": "c2ce5b11",
   "metadata": {},
   "source": [
    "INterpretation - here is the profile card that i have generated bu using user defined function"
   ]
  },
  {
   "cell_type": "markdown",
   "id": "8f54aeef",
   "metadata": {},
   "source": [
    "### Task 7 - Sorting color frequency in tuples "
   ]
  },
  {
   "cell_type": "code",
   "execution_count": 12,
   "id": "42ea89a2",
   "metadata": {},
   "outputs": [],
   "source": []
  },
  {
   "cell_type": "code",
   "execution_count": 19,
   "id": "714a4f5a",
   "metadata": {},
   "outputs": [
    {
     "name": "stdout",
     "output_type": "stream",
     "text": [
      "colors =  [('green', 1), ('blue', 2), ('yellow', 3), ('black', 4), ('red', 5)]\n"
     ]
    }
   ],
   "source": [
    "def sort_color():\n",
    "    color = [('black',4),('green',1),('red',5),('blue',2),('yellow',3)]\n",
    "    colors = sorted(color , key=lambda x:x[1])\n",
    "    print(\"colors = \",colors)\n",
    "sort_color()    "
   ]
  },
  {
   "cell_type": "markdown",
   "id": "e134db63",
   "metadata": {},
   "source": [
    "Interpretation - Here i have sorted the given data in ascending order"
   ]
  },
  {
   "cell_type": "markdown",
   "id": "bb9853bf",
   "metadata": {},
   "source": [
    "### task 8 - Common data elements in two lists "
   ]
  },
  {
   "cell_type": "code",
   "execution_count": 21,
   "id": "004689ea",
   "metadata": {},
   "outputs": [
    {
     "name": "stdout",
     "output_type": "stream",
     "text": [
      "The common element is  ['Andy']\n"
     ]
    }
   ],
   "source": [
    "a = [\"Andy\",\"Mandy\",\"Sandy\"]\n",
    "b = [\"Handy\",\"Burgundy\",\"Andy\"]\n",
    "\n",
    "common  = list(filter(lambda x: x in b,a))\n",
    "print(\"The common element is \",common)"
   ]
  },
  {
   "cell_type": "markdown",
   "id": "8d07eb86",
   "metadata": {},
   "source": [
    "Interpretation - Here i have identified  the common element in the list of both a and b "
   ]
  },
  {
   "cell_type": "markdown",
   "id": "fa53cd8e",
   "metadata": {},
   "source": [
    "### Task  9 - Map function with lambda expression "
   ]
  },
  {
   "cell_type": "code",
   "execution_count": 22,
   "id": "66d678c3",
   "metadata": {},
   "outputs": [
    {
     "name": "stdout",
     "output_type": "stream",
     "text": [
      "[29, 30, 31]\n"
     ]
    }
   ],
   "source": [
    "c = [12,14,14]\n",
    "d = [17,16,17]\n",
    "\n",
    "add_elements = list(map(lambda x , y : x + y ,c,d))\n",
    "print(add_elements)"
   ]
  },
  {
   "cell_type": "markdown",
   "id": "60baabe4",
   "metadata": {},
   "source": [
    "Interpretation - Here i have addaed the elements in c and d with their correspond9ing element bu using map and lambda funtions"
   ]
  },
  {
   "cell_type": "code",
   "execution_count": null,
   "id": "40b3da02",
   "metadata": {},
   "outputs": [],
   "source": []
  }
 ],
 "metadata": {
  "kernelspec": {
   "display_name": "Python 3 (ipykernel)",
   "language": "python",
   "name": "python3"
  },
  "language_info": {
   "codemirror_mode": {
    "name": "ipython",
    "version": 3
   },
   "file_extension": ".py",
   "mimetype": "text/x-python",
   "name": "python",
   "nbconvert_exporter": "python",
   "pygments_lexer": "ipython3",
   "version": "3.11.3"
  }
 },
 "nbformat": 4,
 "nbformat_minor": 5
}
