{
 "cells": [
  {
   "cell_type": "markdown",
   "id": "99430d7e",
   "metadata": {},
   "source": [
    "# Sprint 1 (practice)"
   ]
  },
  {
   "cell_type": "markdown",
   "id": "2b293e61",
   "metadata": {},
   "source": [
    "### Task 1-  Company has assigned 30 candidates ,assign the emplyee_id                                                           "
   ]
  },
  {
   "cell_type": "code",
   "execution_count": 2,
   "id": "a120ca8e",
   "metadata": {},
   "outputs": [],
   "source": [
    "import numpy as np"
   ]
  },
  {
   "cell_type": "code",
   "execution_count": 3,
   "id": "b6f41460",
   "metadata": {},
   "outputs": [],
   "source": [
    "HR = np.arange(1,4)\n",
    "IT = np.arange(4,19)\n",
    "Finance = np.arange(19,24)\n",
    "Sales = np.arange(24,31)"
   ]
  },
  {
   "cell_type": "code",
   "execution_count": 4,
   "id": "d25cba68",
   "metadata": {},
   "outputs": [
    {
     "name": "stdout",
     "output_type": "stream",
     "text": [
      "[1 2 3]\n",
      "[ 4  5  6  7  8  9 10 11 12 13 14 15 16 17 18]\n",
      "[19 20 21 22 23]\n",
      "[24 25 26 27 28 29 30]\n"
     ]
    }
   ],
   "source": [
    "print(HR)\n",
    "print(IT)\n",
    "print(Finance)\n",
    "print(Sales)"
   ]
  },
  {
   "cell_type": "code",
   "execution_count": 104,
   "id": "24d9c482",
   "metadata": {},
   "outputs": [
    {
     "name": "stdout",
     "output_type": "stream",
     "text": [
      "<class 'numpy.ndarray'>\n"
     ]
    }
   ],
   "source": [
    "print(type(HR))"
   ]
  },
  {
   "cell_type": "markdown",
   "id": "b79d9692",
   "metadata": {},
   "source": [
    "Interpretation - Here in this program ,i have identify the employyes_id according to the respective departments"
   ]
  },
  {
   "cell_type": "markdown",
   "id": "31bbd6a7",
   "metadata": {},
   "source": [
    "### Task 2 - Create arrays to hold salary of the empoyees "
   ]
  },
  {
   "cell_type": "code",
   "execution_count": 117,
   "id": "ad585bf0",
   "metadata": {},
   "outputs": [],
   "source": [
    "HR_sal = np.array([50,60,57])\n",
    "IT_sal = np.array([67]*15)\n",
    "Finance_sal = np.array([60,65,50,70,87])\n",
    "Sales_sal = np.array([50,60,65,90,56,65,71])"
   ]
  },
  {
   "cell_type": "code",
   "execution_count": 118,
   "id": "d81a87b9",
   "metadata": {},
   "outputs": [
    {
     "name": "stdout",
     "output_type": "stream",
     "text": [
      "[50 60 57]\n",
      "[67 67 67 67 67 67 67 67 67 67 67 67 67 67 67]\n",
      "[19 20 21 22 23]\n",
      "[24 25 26 27 28 29 30]\n"
     ]
    }
   ],
   "source": [
    "print(HR_sal)\n",
    "print(IT_sal)\n",
    "print(Finance)\n",
    "print(Sales)"
   ]
  },
  {
   "cell_type": "code",
   "execution_count": 119,
   "id": "9f7e314d",
   "metadata": {},
   "outputs": [
    {
     "name": "stdout",
     "output_type": "stream",
     "text": [
      "[67 67 67 67 67 67 67 67 67 67 67 67 67 67 67]\n"
     ]
    }
   ],
   "source": [
    "print(IT_sal)"
   ]
  },
  {
   "cell_type": "markdown",
   "id": "7869bc0e",
   "metadata": {},
   "source": [
    "Interpretation - Here in this program i have displayed the salary in department wise "
   ]
  },
  {
   "cell_type": "markdown",
   "id": "e3f137eb",
   "metadata": {},
   "source": [
    "### Task 3 - Department wise average salary expences and also the department with highest salary"
   ]
  },
  {
   "cell_type": "code",
   "execution_count": 121,
   "id": "056d623c",
   "metadata": {},
   "outputs": [],
   "source": [
    "avg_sal_HR = np.mean(HR_sal)\n",
    "avg_sal_IT = np.mean(IT_sal)\n",
    "avg_sal_Finance = np.mean(Finance_sal)\n",
    "avg_sal_Sales = np.mean(Sales_sal)"
   ]
  },
  {
   "cell_type": "code",
   "execution_count": 122,
   "id": "1af2441b",
   "metadata": {},
   "outputs": [
    {
     "name": "stdout",
     "output_type": "stream",
     "text": [
      "55.666666666666664\n",
      "67.0\n",
      "66.4\n",
      "65.28571428571429\n"
     ]
    }
   ],
   "source": [
    "print(avg_sal_HR)\n",
    "print(avg_sal_IT)\n",
    "print(avg_sal_Finance)\n",
    "print(avg_sal_Sales)"
   ]
  },
  {
   "cell_type": "code",
   "execution_count": 123,
   "id": "932f15d3",
   "metadata": {},
   "outputs": [
    {
     "name": "stdout",
     "output_type": "stream",
     "text": [
      "67.0\n"
     ]
    }
   ],
   "source": [
    "print(avg_sal_IT)"
   ]
  },
  {
   "cell_type": "markdown",
   "id": "74b9b0d7",
   "metadata": {},
   "source": [
    "Interpretation - The IT department has the highest number of average salary compared to the other departments."
   ]
  },
  {
   "cell_type": "markdown",
   "id": "9fcb6893",
   "metadata": {},
   "source": [
    "### Task 4 - list the highest salary in the HR and Finance department "
   ]
  },
  {
   "cell_type": "code",
   "execution_count": 124,
   "id": "09d13578",
   "metadata": {},
   "outputs": [
    {
     "data": {
      "text/plain": [
       "array([50, 60, 57])"
      ]
     },
     "execution_count": 124,
     "metadata": {},
     "output_type": "execute_result"
    }
   ],
   "source": [
    "HR_sal"
   ]
  },
  {
   "cell_type": "code",
   "execution_count": 125,
   "id": "17169292",
   "metadata": {},
   "outputs": [
    {
     "data": {
      "text/plain": [
       "60"
      ]
     },
     "execution_count": 125,
     "metadata": {},
     "output_type": "execute_result"
    }
   ],
   "source": [
    "max(HR_sal)"
   ]
  },
  {
   "cell_type": "code",
   "execution_count": 126,
   "id": "ef2d99e4",
   "metadata": {},
   "outputs": [
    {
     "data": {
      "text/plain": [
       "array([60, 65, 50, 70, 87])"
      ]
     },
     "execution_count": 126,
     "metadata": {},
     "output_type": "execute_result"
    }
   ],
   "source": [
    "Finance_sal"
   ]
  },
  {
   "cell_type": "code",
   "execution_count": 127,
   "id": "b2f9ed68",
   "metadata": {},
   "outputs": [
    {
     "data": {
      "text/plain": [
       "87"
      ]
     },
     "execution_count": 127,
     "metadata": {},
     "output_type": "execute_result"
    }
   ],
   "source": [
    "max(Finance_sal)"
   ]
  },
  {
   "cell_type": "markdown",
   "id": "cfe42100",
   "metadata": {},
   "source": [
    "Interretation - Here,is the highest salary in HR and Finance departments. HR is 60 and Finance is 87"
   ]
  },
  {
   "cell_type": "markdown",
   "id": "a29270e1",
   "metadata": {},
   "source": [
    "### Task 5 - gross salary of 5% for the employees in IT department  "
   ]
  },
  {
   "cell_type": "code",
   "execution_count": 129,
   "id": "a806747d",
   "metadata": {},
   "outputs": [
    {
     "data": {
      "text/plain": [
       "array([67, 67, 67, 67, 67, 67, 67, 67, 67, 67, 67, 67, 67, 67, 67])"
      ]
     },
     "execution_count": 129,
     "metadata": {},
     "output_type": "execute_result"
    }
   ],
   "source": [
    "IT_sal"
   ]
  },
  {
   "cell_type": "code",
   "execution_count": 131,
   "id": "70317fac",
   "metadata": {},
   "outputs": [
    {
     "data": {
      "text/plain": [
       "1005"
      ]
     },
     "execution_count": 131,
     "metadata": {},
     "output_type": "execute_result"
    }
   ],
   "source": [
    "sum(IT_sal)"
   ]
  },
  {
   "cell_type": "code",
   "execution_count": 144,
   "id": "512da151",
   "metadata": {},
   "outputs": [],
   "source": [
    "gross_salary = IT_sal + IT_sal*(5/100)"
   ]
  },
  {
   "cell_type": "code",
   "execution_count": 145,
   "id": "1020c5c5",
   "metadata": {},
   "outputs": [
    {
     "data": {
      "text/plain": [
       "array([70.35, 70.35, 70.35, 70.35, 70.35, 70.35, 70.35, 70.35, 70.35,\n",
       "       70.35, 70.35, 70.35, 70.35, 70.35, 70.35])"
      ]
     },
     "execution_count": 145,
     "metadata": {},
     "output_type": "execute_result"
    }
   ],
   "source": [
    "gross_salary"
   ]
  },
  {
   "cell_type": "code",
   "execution_count": 152,
   "id": "9bcd9a07",
   "metadata": {},
   "outputs": [
    {
     "data": {
      "text/plain": [
       "1055.2500000000002"
      ]
     },
     "execution_count": 152,
     "metadata": {},
     "output_type": "execute_result"
    }
   ],
   "source": [
    "sum(gross_salary)"
   ]
  },
  {
   "cell_type": "code",
   "execution_count": 156,
   "id": "9a7c1a82",
   "metadata": {},
   "outputs": [],
   "source": [
    "IT_sal_after_bonus = gross_salary"
   ]
  },
  {
   "cell_type": "code",
   "execution_count": 157,
   "id": "80be7454",
   "metadata": {},
   "outputs": [
    {
     "data": {
      "text/plain": [
       "array([70.35, 70.35, 70.35, 70.35, 70.35, 70.35, 70.35, 70.35, 70.35,\n",
       "       70.35, 70.35, 70.35, 70.35, 70.35, 70.35])"
      ]
     },
     "execution_count": 157,
     "metadata": {},
     "output_type": "execute_result"
    }
   ],
   "source": [
    "IT_sal_after_bonus"
   ]
  },
  {
   "cell_type": "markdown",
   "id": "5f6aa040",
   "metadata": {},
   "source": [
    "Interpretation - Here is the updated salary of IT department , whose joining bonus is 5% for each of the IT employee"
   ]
  },
  {
   "cell_type": "code",
   "execution_count": null,
   "id": "426282fa",
   "metadata": {},
   "outputs": [],
   "source": []
  },
  {
   "cell_type": "code",
   "execution_count": null,
   "id": "50f19b38",
   "metadata": {},
   "outputs": [],
   "source": []
  },
  {
   "cell_type": "code",
   "execution_count": null,
   "id": "51f505f4",
   "metadata": {},
   "outputs": [],
   "source": []
  }
 ],
 "metadata": {
  "kernelspec": {
   "display_name": "Python 3 (ipykernel)",
   "language": "python",
   "name": "python3"
  },
  "language_info": {
   "codemirror_mode": {
    "name": "ipython",
    "version": 3
   },
   "file_extension": ".py",
   "mimetype": "text/x-python",
   "name": "python",
   "nbconvert_exporter": "python",
   "pygments_lexer": "ipython3",
   "version": "3.11.3"
  }
 },
 "nbformat": 4,
 "nbformat_minor": 5
}
