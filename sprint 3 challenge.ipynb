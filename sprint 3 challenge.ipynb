{
 "cells": [
  {
   "cell_type": "markdown",
   "id": "fd0fc7e4",
   "metadata": {},
   "source": [
    "# sprint - 3 (challenge) "
   ]
  },
  {
   "cell_type": "markdown",
   "id": "caf8bb0e",
   "metadata": {},
   "source": [
    "### Task 1 - spell bee competition (add 5 more student names)  "
   ]
  },
  {
   "cell_type": "code",
   "execution_count": 7,
   "id": "639d0646",
   "metadata": {},
   "outputs": [],
   "source": [
    "data= [\"Mark Antony\",\"John Chan\",\"Bret Lee\",\"Jim Nick\",\"Janice Ken\",\"Florida Thomson\",\"Lily Jason\",\"Matt Antony\",\"Mark Thomas\",\n",
    "      \"Kenny Peterson\",\"Joe Cook\",\"Alexander Thomas\",\"Katy Perry\",\"Alexanderia Peterson\",\"Mark Antony\"]"
   ]
  },
  {
   "cell_type": "code",
   "execution_count": 11,
   "id": "2d48a47e",
   "metadata": {},
   "outputs": [
    {
     "name": "stdout",
     "output_type": "stream",
     "text": [
      "Enter the name: Sanjay\n",
      "Enter the name: Surya\n",
      "Enter the name: Janu\n",
      "Enter the name: Ram\n",
      "Enter the name: Karthi\n"
     ]
    }
   ],
   "source": [
    "for i in range(5):\n",
    "    names=input(\"Enter the name: \")\n",
    "    data.append(names)\n"
   ]
  },
  {
   "cell_type": "code",
   "execution_count": 12,
   "id": "8da7cfa7",
   "metadata": {},
   "outputs": [
    {
     "name": "stdout",
     "output_type": "stream",
     "text": [
      "['Mark Antony', 'John Chan', 'Bret Lee', 'Jim Nick', 'Janice Ken', 'Florida Thomson', 'Lily Jason', 'Matt Antony', 'Mark Thomas', 'Kenny Peterson', 'Joe Cook', 'Alexander Thomas', 'Katy Perry', 'Alexanderia Peterson', 'Mark Antony', 'Sanjay', 'Surya', 'Janu', 'Ram', 'Karthi'] "
     ]
    }
   ],
   "source": [
    "print(data,end=\" \")"
   ]
  },
  {
   "cell_type": "markdown",
   "id": "ef520d8d",
   "metadata": {},
   "source": [
    "interpretation - Here in this program we have added the extra names of the 5 students and Here is the output of the total name of the students who are going to participate in the competition"
   ]
  },
  {
   "cell_type": "markdown",
   "id": "d5d49291",
   "metadata": {},
   "source": [
    "### Task 2 - juliya wants to check the names of the student who signed up later for the competition "
   ]
  },
  {
   "cell_type": "code",
   "execution_count": 13,
   "id": "d9f4f5c1",
   "metadata": {},
   "outputs": [
    {
     "name": "stdout",
     "output_type": "stream",
     "text": [
      "['Mark Antony', 'John Chan', 'Bret Lee', 'Jim Nick', 'Janice Ken', 'Florida Thomson', 'Lily Jason', 'Matt Antony', 'Mark Thomas', 'Kenny Peterson', 'Joe Cook', 'Alexander Thomas', 'Katy Perry', 'Alexanderia Peterson', 'Mark Antony', 'Sanjay', 'Surya', 'Janu', 'Ram', 'Karthi']\n"
     ]
    }
   ],
   "source": [
    "print(data)"
   ]
  },
  {
   "cell_type": "code",
   "execution_count": 14,
   "id": "d26c2acc",
   "metadata": {},
   "outputs": [
    {
     "name": "stdout",
     "output_type": "stream",
     "text": [
      "['Karthi', 'Ram', 'Janu', 'Surya', 'Sanjay', 'Mark Antony', 'Alexanderia Peterson', 'Katy Perry', 'Alexander Thomas', 'Joe Cook', 'Kenny Peterson', 'Mark Thomas', 'Matt Antony', 'Lily Jason', 'Florida Thomson', 'Janice Ken', 'Jim Nick', 'Bret Lee', 'John Chan', 'Mark Antony']\n"
     ]
    }
   ],
   "source": [
    "data.reverse()\n",
    "print(data)"
   ]
  },
  {
   "cell_type": "markdown",
   "id": "7e9444b6",
   "metadata": {},
   "source": [
    "interpretation - Here are the names of the students , who signed up lately for the competition"
   ]
  },
  {
   "cell_type": "markdown",
   "id": "25db8ba5",
   "metadata": {},
   "source": [
    "### Task 3 - without using in bulit function "
   ]
  },
  {
   "cell_type": "code",
   "execution_count": 24,
   "id": "23d04535",
   "metadata": {},
   "outputs": [],
   "source": [
    "data= ['Mark Antony', 'John Chan', 'Bret Lee', 'Jim Nick', 'Janice Ken', 'Florida Thomson', 'Lily Jason', 'Matt Antony',\n",
    " 'Mark Thomas', 'Kenny Peterson', 'Joe Cook', 'Alexander Thomas', 'Katy Perry', 'Alexanderia Peterson', 'Mark Antony', \n",
    " 'Sanjay', 'Surya', 'Janu', 'Ram', 'Karthi'] "
   ]
  },
  {
   "cell_type": "code",
   "execution_count": 28,
   "id": "16ed3974",
   "metadata": {},
   "outputs": [
    {
     "name": "stdout",
     "output_type": "stream",
     "text": [
      "['Sanjay', 'Surya', 'Janu', 'Ram', 'Karthi'] "
     ]
    }
   ],
   "source": [
    "print(data[-5:],end=\" \")"
   ]
  },
  {
   "cell_type": "markdown",
   "id": "57a1894e",
   "metadata": {},
   "source": [
    "Interpretation - Here is the output of the students who signed up lately without using in built function"
   ]
  },
  {
   "cell_type": "markdown",
   "id": "f65bd425",
   "metadata": {},
   "source": [
    "### Task 4 - check whether is there any name is repeated and create a new list as final list "
   ]
  },
  {
   "cell_type": "code",
   "execution_count": 21,
   "id": "e14bbc67",
   "metadata": {},
   "outputs": [
    {
     "name": "stdout",
     "output_type": "stream",
     "text": [
      "['Mark Antony', 'John Chan', 'Bret Lee', 'Jim Nick', 'Janice Ken', 'Florida Thomson', 'Lily Jason', 'Matt Antony', 'Mark Thomas', 'Kenny Peterson', 'Joe Cook', 'Alexander Thomas', 'Katy Perry', 'Alexanderia Peterson', 'Mark Antony', 'Sanjay', 'Surya', 'Janu', 'Ram', 'Karthi']\n"
     ]
    }
   ],
   "source": [
    "print(data)"
   ]
  },
  {
   "cell_type": "code",
   "execution_count": 22,
   "id": "194a8547",
   "metadata": {},
   "outputs": [],
   "source": [
    "final_list = ['Mark Antony', 'John Chan', 'Bret Lee', 'Jim Nick', 'Janice Ken', 'Florida Thomson', 'Lily Jason', \n",
    "              'Matt Antony', 'Mark Thomas', 'Kenny Peterson', 'Joe Cook', 'Alexander Thomas', 'Katy Perry', \n",
    "              'Alexanderia Peterson', 'Sanjay', 'Surya', 'Janu', 'Ram', 'Karthi']"
   ]
  },
  {
   "cell_type": "code",
   "execution_count": 23,
   "id": "003d0f60",
   "metadata": {},
   "outputs": [
    {
     "name": "stdout",
     "output_type": "stream",
     "text": [
      "['Mark Antony', 'John Chan', 'Bret Lee', 'Jim Nick', 'Janice Ken', 'Florida Thomson', 'Lily Jason', 'Matt Antony', 'Mark Thomas', 'Kenny Peterson', 'Joe Cook', 'Alexander Thomas', 'Katy Perry', 'Alexanderia Peterson', 'Sanjay', 'Surya', 'Janu', 'Ram', 'Karthi']\n"
     ]
    }
   ],
   "source": [
    "print(final_list)"
   ]
  },
  {
   "cell_type": "markdown",
   "id": "fc0e6aca",
   "metadata": {},
   "source": [
    "Interpretation - Here in this task ,\"Mark Antony\" name is repeated, so i took it out ans created a new list name as final_list"
   ]
  },
  {
   "cell_type": "markdown",
   "id": "23e2a86c",
   "metadata": {},
   "source": [
    "### Task 5 - Display the names of the students in alphabetical order "
   ]
  },
  {
   "cell_type": "code",
   "execution_count": 32,
   "id": "22ac3773",
   "metadata": {},
   "outputs": [
    {
     "name": "stdout",
     "output_type": "stream",
     "text": [
      "['Mark Antony', 'John Chan', 'Bret Lee', 'Jim Nick', 'Janice Ken', 'Florida Thomson', 'Lily Jason', 'Matt Antony', 'Mark Thomas', 'Kenny Peterson', 'Joe Cook', 'Alexander Thomas', 'Katy Perry', 'Alexanderia Peterson', 'Sanjay', 'Surya', 'Janu', 'Ram', 'Karthi']\n"
     ]
    }
   ],
   "source": [
    "print(final_list)"
   ]
  },
  {
   "cell_type": "code",
   "execution_count": 33,
   "id": "65f75e13",
   "metadata": {},
   "outputs": [
    {
     "name": "stdout",
     "output_type": "stream",
     "text": [
      "['Alexander Thomas', 'Alexanderia Peterson', 'Bret Lee', 'Florida Thomson', 'Janice Ken', 'Janu', 'Jim Nick', 'Joe Cook', 'John Chan', 'Karthi', 'Katy Perry', 'Kenny Peterson', 'Lily Jason', 'Mark Antony', 'Mark Thomas', 'Matt Antony', 'Ram', 'Sanjay', 'Surya']\n"
     ]
    }
   ],
   "source": [
    "final_list.sort()\n",
    "print(final_list)"
   ]
  },
  {
   "cell_type": "markdown",
   "id": "2cab9c9f",
   "metadata": {},
   "source": [
    "Interpretation - Here is the output , in which i have arranged the names of students  in alphabetical order"
   ]
  },
  {
   "cell_type": "markdown",
   "id": "0e647e04",
   "metadata": {},
   "source": [
    "### Task 6 - identify the index position "
   ]
  },
  {
   "cell_type": "code",
   "execution_count": 37,
   "id": "713e4f6a",
   "metadata": {},
   "outputs": [
    {
     "data": {
      "text/plain": [
       "19"
      ]
     },
     "execution_count": 37,
     "metadata": {},
     "output_type": "execute_result"
    }
   ],
   "source": [
    "final_list = ['Alexander Thomas', 'Alexanderia Peterson', 'Bret Lee', 'Florida Thomson', 'Janice Ken', 'Janu', 'Jim Nick', \n",
    "              'Joe Cook', 'John Chan', 'Karthi', 'Katy Perry', 'Kenny Peterson', 'Lily Jason', 'Mark Antony', 'Mark Thomas',\n",
    "              'Matt Antony', 'Ram', 'Sanjay', 'Surya']\n",
    "len(final_list)"
   ]
  },
  {
   "cell_type": "code",
   "execution_count": 38,
   "id": "5fa38530",
   "metadata": {},
   "outputs": [
    {
     "data": {
      "text/plain": [
       "'Alexanderia Peterson'"
      ]
     },
     "execution_count": 38,
     "metadata": {},
     "output_type": "execute_result"
    }
   ],
   "source": [
    "final_list[1]"
   ]
  },
  {
   "cell_type": "code",
   "execution_count": 39,
   "id": "97d5be3a",
   "metadata": {},
   "outputs": [
    {
     "data": {
      "text/plain": [
       "'Kenny Peterson'"
      ]
     },
     "execution_count": 39,
     "metadata": {},
     "output_type": "execute_result"
    }
   ],
   "source": [
    "final_list[11]"
   ]
  },
  {
   "cell_type": "code",
   "execution_count": 40,
   "id": "9c68cc1a",
   "metadata": {},
   "outputs": [
    {
     "data": {
      "text/plain": [
       "'Surya'"
      ]
     },
     "execution_count": 40,
     "metadata": {},
     "output_type": "execute_result"
    }
   ],
   "source": [
    "final_list[18]"
   ]
  },
  {
   "cell_type": "code",
   "execution_count": 41,
   "id": "1e23a395",
   "metadata": {},
   "outputs": [],
   "source": [
    "winners_list = ['Alexanderia Peterson','Kenny Peterson','Surya']"
   ]
  },
  {
   "cell_type": "code",
   "execution_count": 42,
   "id": "ec0ec3cd",
   "metadata": {},
   "outputs": [
    {
     "name": "stdout",
     "output_type": "stream",
     "text": [
      "['Alexanderia Peterson', 'Kenny Peterson', 'Surya']\n"
     ]
    }
   ],
   "source": [
    "print(winners_list)"
   ]
  },
  {
   "cell_type": "markdown",
   "id": "5bfc7ad5",
   "metadata": {},
   "source": [
    "Interpretation - Here in this task ,i have identified the index value for the winners and then displayed the names of the student in a different list name as winners_list  "
   ]
  },
  {
   "cell_type": "markdown",
   "id": "0fbb3836",
   "metadata": {},
   "source": [
    "### Task 7 - To count the number of integers "
   ]
  },
  {
   "cell_type": "code",
   "execution_count": 43,
   "id": "f7299a72",
   "metadata": {},
   "outputs": [],
   "source": [
    "#count the numbers of integers between 555 to 678 divisible by 7"
   ]
  },
  {
   "cell_type": "code",
   "execution_count": 50,
   "id": "c616c117",
   "metadata": {},
   "outputs": [
    {
     "name": "stdout",
     "output_type": "stream",
     "text": [
      "count of integer divisible by 7 : 17\n"
     ]
    }
   ],
   "source": [
    "count=0\n",
    "for i in range(555,678):\n",
    "    if i%7 ==0:\n",
    "        count+=1\n",
    "print(\"count of integer divisible by 7 :\",count)    "
   ]
  },
  {
   "cell_type": "markdown",
   "id": "81cf7ead",
   "metadata": {},
   "source": [
    "Interpretation - here is the output for the count the numbers of integers between 555 to 678 divisible by 7."
   ]
  },
  {
   "cell_type": "markdown",
   "id": "dc49d3b5",
   "metadata": {},
   "source": [
    "### Task 8 - Programs that print 30 natural number but skip the numbers multiples by n "
   ]
  },
  {
   "cell_type": "code",
   "execution_count": 58,
   "id": "d326d4aa",
   "metadata": {},
   "outputs": [
    {
     "name": "stdout",
     "output_type": "stream",
     "text": [
      "Enter the value of n: 5\n",
      "1 2 3 4 6 7 8 9 11 12 13 14 16 17 18 19 21 22 23 24 26 27 28 29 "
     ]
    }
   ],
   "source": [
    "n =int(input(\"Enter the value of n: \"))\n",
    "count =0\n",
    "num =1\n",
    "\n",
    "for i in range(1,31):\n",
    "    if num % n !=0:\n",
    "        print(num, end=\" \")\n",
    "        count +=1\n",
    "    num +=1\n"
   ]
  },
  {
   "cell_type": "markdown",
   "id": "59186499",
   "metadata": {},
   "source": [
    "Interpretation - Here is the output for the  Programs that print 30 natural number but skip the numbers multiples by n."
   ]
  },
  {
   "cell_type": "markdown",
   "id": "7c4769f2",
   "metadata": {},
   "source": [
    "### Task 9 -   "
   ]
  },
  {
   "cell_type": "code",
   "execution_count": 1,
   "id": "8b4b2ff6",
   "metadata": {},
   "outputs": [],
   "source": [
    "firstlist = [1,21,3,4,5,6,7,18,4]\n",
    "secondlist = [19,1,17,6,15,14,13,2,11]"
   ]
  },
  {
   "cell_type": "code",
   "execution_count": 2,
   "id": "1dfc1243",
   "metadata": {},
   "outputs": [],
   "source": [
    "thirdlist = []"
   ]
  },
  {
   "cell_type": "code",
   "execution_count": 4,
   "id": "845c9a36",
   "metadata": {},
   "outputs": [
    {
     "name": "stdout",
     "output_type": "stream",
     "text": [
      "thirdlist =  [20, 22, 20, 10, 20, 20, 20, 20, 15]\n"
     ]
    }
   ],
   "source": [
    "for i in range(len(firstlist)):\n",
    "    sum = firstlist[i]+secondlist[i]\n",
    "    thirdlist.append(sum)\n",
    "print(\"thirdlist = \",thirdlist)    "
   ]
  },
  {
   "cell_type": "markdown",
   "id": "1ecde53e",
   "metadata": {},
   "source": [
    "Interpretation - Here i have added the firstlist and secondlist to the corresponding elements and i have place the output in the name of thirdlist"
   ]
  },
  {
   "cell_type": "code",
   "execution_count": null,
   "id": "b4b4a03c",
   "metadata": {},
   "outputs": [],
   "source": []
  }
 ],
 "metadata": {
  "kernelspec": {
   "display_name": "Python 3 (ipykernel)",
   "language": "python",
   "name": "python3"
  },
  "language_info": {
   "codemirror_mode": {
    "name": "ipython",
    "version": 3
   },
   "file_extension": ".py",
   "mimetype": "text/x-python",
   "name": "python",
   "nbconvert_exporter": "python",
   "pygments_lexer": "ipython3",
   "version": "3.11.3"
  }
 },
 "nbformat": 4,
 "nbformat_minor": 5
}
