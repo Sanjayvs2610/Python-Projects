{
 "cells": [
  {
   "cell_type": "markdown",
   "id": "be0f2649",
   "metadata": {},
   "source": [
    "# Sprint 2 (practice) "
   ]
  },
  {
   "cell_type": "markdown",
   "id": "88ae5517",
   "metadata": {},
   "source": [
    "### Task 1 - Decision making based on user input "
   ]
  },
  {
   "cell_type": "code",
   "execution_count": 6,
   "id": "005c0092",
   "metadata": {},
   "outputs": [
    {
     "name": "stdout",
     "output_type": "stream",
     "text": [
      "Enter the value :C\n",
      "Excel\n"
     ]
    }
   ],
   "source": [
    "a=input(\"Enter the value :\")\n",
    "if a=='A':\n",
    "    print(\"python\")\n",
    "elif a=='B':\n",
    "    print(\"MySQL\")\n",
    "elif a=='C':\n",
    "    print('Excel')\n",
    "else:\n",
    "    print(\"Holiday\")"
   ]
  },
  {
   "cell_type": "markdown",
   "id": "e20a3e68",
   "metadata": {},
   "source": [
    "interpretation - \n",
    "               here is the program, which get input from the user and display the output according to program"
   ]
  },
  {
   "cell_type": "markdown",
   "id": "26d98fcf",
   "metadata": {},
   "source": [
    "### Task 2 - Comparing two numbers "
   ]
  },
  {
   "cell_type": "code",
   "execution_count": 16,
   "id": "562addac",
   "metadata": {},
   "outputs": [
    {
     "name": "stdout",
     "output_type": "stream",
     "text": [
      "Enter the number :21\n",
      "Enter the number :20\n",
      "a is higher than b: 21\n"
     ]
    }
   ],
   "source": [
    "a=int(input(\"Enter the number :\"))\n",
    "b=int(input(\"Enter the number :\"))\n",
    "if a>b:\n",
    "    print(\"a is higher than b:\",a)\n",
    "elif a<b:\n",
    "    print(\"b is greater than a:\",b)\n",
    "else:\n",
    "    print(\"a equal to b\")"
   ]
  },
  {
   "cell_type": "markdown",
   "id": "7c54a4e5",
   "metadata": {},
   "source": [
    "interpretation - Here in this program,the output will be displayed which number is high compare with a and b"
   ]
  },
  {
   "cell_type": "markdown",
   "id": "9d812ceb",
   "metadata": {},
   "source": [
    "### Task 3 - Calculating gross salary "
   ]
  },
  {
   "cell_type": "code",
   "execution_count": 1,
   "id": "c51ef4a2",
   "metadata": {},
   "outputs": [
    {
     "name": "stdout",
     "output_type": "stream",
     "text": [
      "Enter the basic salary:5000\n",
      "Gross_salary= 72000.0\n"
     ]
    }
   ],
   "source": [
    "basic_salary=int(input(\"Enter the basic salary:\"))\n",
    "if (basic_salary<4000):\n",
    "    print(\"Gross_salary=\",(basic_salary+basic_salary*0.10+basic_salary*0.05)*12)\n",
    "elif (4001<= basic_salary <=10000):\n",
    "    print(\"Gross_salary=\",(basic_salary+basic_salary*0.10+basic_salary*0.10)*12)\n",
    "else :\n",
    "    print(\"Gross_salary=\",(basic_salary+basic_salary*0.15+basic_salary*0.15)*12)\n",
    "    "
   ]
  },
  {
   "cell_type": "markdown",
   "id": "a9535269",
   "metadata": {},
   "source": [
    "interpretation - Here in this program the discou t will be diducted according to the amount that we enter and it will display\n",
    "                the total after calculating discount"
   ]
  },
  {
   "cell_type": "markdown",
   "id": "8680d6ae",
   "metadata": {},
   "source": [
    "### Task 4 - Searching a word in a paragraph "
   ]
  },
  {
   "cell_type": "code",
   "execution_count": 41,
   "id": "c38508ff",
   "metadata": {},
   "outputs": [
    {
     "name": "stdout",
     "output_type": "stream",
     "text": [
      "Enter the word:is\n",
      "YES\n"
     ]
    }
   ],
   "source": [
    "var=\"\"\"(Python is an interpreted,high-level,general-purpose programming language.\n",
    "     its design philosophy emphasizes code readability with its use of significant intendation\n",
    "     its language language constructs as well as its object-oriented approach ain to helpprogrammers write clear,\n",
    "     logical code for small and large scale projects)\"\"\"\n",
    "word=input(\"Enter the word:\")\n",
    "if (word in var):\n",
    "    print(\"YES\")\n",
    "else:\n",
    "    print(\"NO\")\n",
    "\n"
   ]
  },
  {
   "cell_type": "markdown",
   "id": "b573afb7",
   "metadata": {},
   "source": [
    "interpretation - Here in this program,we have to identify whether the given word is in the above paragraph ,if it is then print yes or else no"
   ]
  },
  {
   "cell_type": "markdown",
   "id": "bf9ab0c5",
   "metadata": {},
   "source": [
    "### Task 5 - checking if a character is uppercase() or lowercase() "
   ]
  },
  {
   "cell_type": "code",
   "execution_count": 3,
   "id": "e3b28fc9",
   "metadata": {},
   "outputs": [
    {
     "name": "stdout",
     "output_type": "stream",
     "text": [
      "Enter the word: s\n",
      "lowercase\n"
     ]
    }
   ],
   "source": [
    "word=input(\"Enter the word: \")\n",
    "if (word.isupper()):\n",
    "    print(\"UPPERCASE\")\n",
    "elif (word.islower()):\n",
    "    print(\"lowercase\")\n",
    "else:\n",
    "    print(\"Mixture of uppercase and lowercase\")\n",
    "\n",
    "\n",
    "    "
   ]
  },
  {
   "cell_type": "markdown",
   "id": "8fe8df1f",
   "metadata": {},
   "source": [
    "interpretation - Here in this program , its used to identify whether the given word is uppercase or in lowercase"
   ]
  },
  {
   "cell_type": "markdown",
   "id": "8668e369",
   "metadata": {},
   "source": [
    "### Task 6 - Checking if an alphabet is an vowel or consonant "
   ]
  },
  {
   "cell_type": "code",
   "execution_count": 10,
   "id": "bc154f66",
   "metadata": {},
   "outputs": [
    {
     "name": "stdout",
     "output_type": "stream",
     "text": [
      "Enter the value: E\n",
      "Vowel\n"
     ]
    }
   ],
   "source": [
    "alphabet=input(\"Enter the value: \")\n",
    "if (alphabet in(\"a\",\"e\",\"i\",\"o\",\"u\",\"A\",\"E\",\"I\",\"O\",\"U\")):\n",
    "    print(\"Vowel\")\n",
    "else:\n",
    "    print(\"consonant\")"
   ]
  },
  {
   "cell_type": "markdown",
   "id": "8bc9e2bc",
   "metadata": {},
   "source": [
    "Interpretation - Here in this program we have identify whether the given alphabet is vowel or consonant"
   ]
  },
  {
   "cell_type": "code",
   "execution_count": null,
   "id": "bcb687a8",
   "metadata": {},
   "outputs": [],
   "source": []
  }
 ],
 "metadata": {
  "kernelspec": {
   "display_name": "Python 3 (ipykernel)",
   "language": "python",
   "name": "python3"
  },
  "language_info": {
   "codemirror_mode": {
    "name": "ipython",
    "version": 3
   },
   "file_extension": ".py",
   "mimetype": "text/x-python",
   "name": "python",
   "nbconvert_exporter": "python",
   "pygments_lexer": "ipython3",
   "version": "3.11.3"
  }
 },
 "nbformat": 4,
 "nbformat_minor": 5
}
