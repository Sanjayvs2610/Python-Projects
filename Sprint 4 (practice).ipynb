{
 "cells": [
  {
   "cell_type": "markdown",
   "id": "1c0754eb",
   "metadata": {},
   "source": [
    "## Sprint 4 (practice) "
   ]
  },
  {
   "cell_type": "markdown",
   "id": "4fa264b2",
   "metadata": {},
   "source": [
    "### Task 1 - Factorial of a number "
   ]
  },
  {
   "cell_type": "code",
   "execution_count": 2,
   "id": "86833e08",
   "metadata": {},
   "outputs": [
    {
     "name": "stdout",
     "output_type": "stream",
     "text": [
      "Enter the number: 5\n",
      "The Factorial of a number is:  120\n"
     ]
    }
   ],
   "source": [
    "num=int(input(\"Enter the number: \"))\n",
    "factorial=1\n",
    "while (num>0):\n",
    "    factorial=factorial*num\n",
    "    num=num -1\n",
    "print(\"The Factorial of a number is: \",factorial)"
   ]
  },
  {
   "cell_type": "markdown",
   "id": "d3d9565c",
   "metadata": {},
   "source": [
    "interpretation - Here is the output for the factorial of a number"
   ]
  },
  {
   "cell_type": "markdown",
   "id": "16723b2f",
   "metadata": {},
   "source": [
    "### Task 2 - prime numbers "
   ]
  },
  {
   "cell_type": "code",
   "execution_count": 29,
   "id": "943ea959",
   "metadata": {},
   "outputs": [
    {
     "name": "stdout",
     "output_type": "stream",
     "text": [
      "Enter the number: 51\n",
      "it's a prime number 51\n"
     ]
    }
   ],
   "source": [
    "n=int(input(\"Enter the number: \"))\n",
    "\n",
    "i=2\n",
    "\n",
    "while i<n:\n",
    "    \n",
    "    if (n%i)==1:\n",
    "        \n",
    "        print(\"it's a prime number\",n)\n",
    "        break\n",
    "    else:\n",
    "        \n",
    "        print(\"it's not a prime number\",n)\n",
    "        break\n"
   ]
  },
  {
   "cell_type": "markdown",
   "id": "d2c6fb92",
   "metadata": {},
   "source": [
    "Interpretation - 50 is not a prime number , 51 is a prime number."
   ]
  },
  {
   "cell_type": "markdown",
   "id": "c2d29951",
   "metadata": {},
   "source": [
    "### Task 3 - Sum of all digits "
   ]
  },
  {
   "cell_type": "code",
   "execution_count": 51,
   "id": "f8eb5f76",
   "metadata": {},
   "outputs": [
    {
     "name": "stdout",
     "output_type": "stream",
     "text": [
      "Enter the numbers:12\n",
      "Enter the numbers:234\n",
      "Enter the numbers:2\n",
      "Enter the numbers:3\n",
      "Enter the numbers:4\n",
      "[12, 234, 2, 3, 4]\n"
     ]
    }
   ],
   "source": [
    "a = []\n",
    "sum = 0\n",
    "\n",
    "for i in range(5):\n",
    "    num=int(input(\"Enter the numbers:\"))\n",
    "    a.append(num)\n",
    "print(a)\n"
   ]
  },
  {
   "cell_type": "code",
   "execution_count": 52,
   "id": "0952e2dd",
   "metadata": {},
   "outputs": [
    {
     "name": "stdout",
     "output_type": "stream",
     "text": [
      "255\n"
     ]
    }
   ],
   "source": [
    "for i in a:\n",
    "    sum = sum+i\n",
    "print(sum)    "
   ]
  },
  {
   "cell_type": "markdown",
   "id": "fe56e313",
   "metadata": {},
   "source": [
    "### Task 4 - Fibonacci series "
   ]
  },
  {
   "cell_type": "code",
   "execution_count": 8,
   "id": "4b44e02c",
   "metadata": {},
   "outputs": [
    {
     "name": "stdout",
     "output_type": "stream",
     "text": [
      "Enter the number:4\n",
      "1 2 4 8 \n"
     ]
    }
   ],
   "source": [
    "a = int(input(\"Enter the number:\"))\n",
    "num1 = 0\n",
    "num2 = 1\n",
    "next_num = num2\n",
    "count = 1\n",
    "while count<= a:\n",
    "    print(next_num,end = \" \")\n",
    "    count +=1\n",
    "    num1,num2 = next_num,num1+num2\n",
    "    next_num = num1+num2\n",
    "    \n",
    "print()\n",
    "    "
   ]
  },
  {
   "cell_type": "markdown",
   "id": "fc5be492",
   "metadata": {},
   "source": [
    "### Task 5 - Adding two tuples "
   ]
  },
  {
   "cell_type": "code",
   "execution_count": 25,
   "id": "201844ff",
   "metadata": {},
   "outputs": [],
   "source": [
    "t1=(1,2,3)\n",
    "t2=(4,5,6)"
   ]
  },
  {
   "cell_type": "code",
   "execution_count": 26,
   "id": "f2f41997",
   "metadata": {},
   "outputs": [
    {
     "data": {
      "text/plain": [
       "2204270628160"
      ]
     },
     "execution_count": 26,
     "metadata": {},
     "output_type": "execute_result"
    }
   ],
   "source": [
    "id(t1)"
   ]
  },
  {
   "cell_type": "code",
   "execution_count": 27,
   "id": "ef9b9f03",
   "metadata": {},
   "outputs": [
    {
     "data": {
      "text/plain": [
       "2204270639808"
      ]
     },
     "execution_count": 27,
     "metadata": {},
     "output_type": "execute_result"
    }
   ],
   "source": [
    "id(t2)"
   ]
  },
  {
   "cell_type": "code",
   "execution_count": 28,
   "id": "5bb9c209",
   "metadata": {},
   "outputs": [],
   "source": [
    "t1=t1+t2"
   ]
  },
  {
   "cell_type": "code",
   "execution_count": 29,
   "id": "b4601aff",
   "metadata": {},
   "outputs": [
    {
     "data": {
      "text/plain": [
       "2204246168128"
      ]
     },
     "execution_count": 29,
     "metadata": {},
     "output_type": "execute_result"
    }
   ],
   "source": [
    "id(t1)"
   ]
  },
  {
   "cell_type": "code",
   "execution_count": 30,
   "id": "26b27177",
   "metadata": {},
   "outputs": [
    {
     "data": {
      "text/plain": [
       "2204270639808"
      ]
     },
     "execution_count": 30,
     "metadata": {},
     "output_type": "execute_result"
    }
   ],
   "source": [
    "id(t2)"
   ]
  },
  {
   "cell_type": "markdown",
   "id": "40ea5229",
   "metadata": {},
   "source": [
    "Interpretation - Here ,in first we have identify the id's of both tuples t1 and t2 . and then we have insert the t1 and t2 in t1 but there is no output is established but ther is a changes in the id() of t1 it's because we have inserted t1 and t2 into t1,that's why the changes is."
   ]
  },
  {
   "cell_type": "markdown",
   "id": "801834cb",
   "metadata": {},
   "source": [
    "### Task 6 - Inserting data into sets "
   ]
  },
  {
   "cell_type": "code",
   "execution_count": 33,
   "id": "0b096524",
   "metadata": {},
   "outputs": [],
   "source": [
    "m = {10,20,30,40,50}\n",
    "n = [33,40,55,60,70]"
   ]
  },
  {
   "cell_type": "code",
   "execution_count": 39,
   "id": "429e21bf",
   "metadata": {},
   "outputs": [],
   "source": [
    "m.add(33)"
   ]
  },
  {
   "cell_type": "code",
   "execution_count": 40,
   "id": "02a8b8d4",
   "metadata": {},
   "outputs": [
    {
     "data": {
      "text/plain": [
       "{10, 20, 30, 33, 40, 50}"
      ]
     },
     "execution_count": 40,
     "metadata": {},
     "output_type": "execute_result"
    }
   ],
   "source": [
    "m"
   ]
  },
  {
   "cell_type": "code",
   "execution_count": 41,
   "id": "6b005b9b",
   "metadata": {},
   "outputs": [],
   "source": [
    "m.add(40)"
   ]
  },
  {
   "cell_type": "code",
   "execution_count": 42,
   "id": "b8ad4187",
   "metadata": {},
   "outputs": [
    {
     "data": {
      "text/plain": [
       "{10, 20, 30, 33, 40, 50}"
      ]
     },
     "execution_count": 42,
     "metadata": {},
     "output_type": "execute_result"
    }
   ],
   "source": [
    "m"
   ]
  },
  {
   "cell_type": "code",
   "execution_count": 43,
   "id": "49ce8f36",
   "metadata": {},
   "outputs": [],
   "source": [
    "m.add(55)"
   ]
  },
  {
   "cell_type": "code",
   "execution_count": 44,
   "id": "98884b53",
   "metadata": {},
   "outputs": [
    {
     "data": {
      "text/plain": [
       "{10, 20, 30, 33, 40, 50, 55}"
      ]
     },
     "execution_count": 44,
     "metadata": {},
     "output_type": "execute_result"
    }
   ],
   "source": [
    "m"
   ]
  },
  {
   "cell_type": "code",
   "execution_count": 45,
   "id": "114e6679",
   "metadata": {},
   "outputs": [],
   "source": [
    "m.add(60)"
   ]
  },
  {
   "cell_type": "code",
   "execution_count": 46,
   "id": "671de7db",
   "metadata": {},
   "outputs": [
    {
     "data": {
      "text/plain": [
       "{10, 20, 30, 33, 40, 50, 55, 60}"
      ]
     },
     "execution_count": 46,
     "metadata": {},
     "output_type": "execute_result"
    }
   ],
   "source": [
    "m"
   ]
  },
  {
   "cell_type": "code",
   "execution_count": 47,
   "id": "8ee5d1a7",
   "metadata": {},
   "outputs": [],
   "source": [
    "m.add(70)"
   ]
  },
  {
   "cell_type": "code",
   "execution_count": 49,
   "id": "9c38a244",
   "metadata": {},
   "outputs": [
    {
     "data": {
      "text/plain": [
       "{10, 20, 30, 33, 40, 50, 55, 60, 70}"
      ]
     },
     "execution_count": 49,
     "metadata": {},
     "output_type": "execute_result"
    }
   ],
   "source": [
    "m"
   ]
  },
  {
   "cell_type": "markdown",
   "id": "38f704bf",
   "metadata": {},
   "source": [
    "Interpretation - Here , we have one set as m = {} and one n = [] list . we have to add the elements from list to set by using add() function . here in the set if there are any common value accures it will remove the duplicate .for example : here we have 40 in the list and the set but when we add 40 from list it removes because already there is 40 present in the set ,its an in build function , that the set will remove the duplicate entrys"
   ]
  },
  {
   "cell_type": "markdown",
   "id": "32b35e7f",
   "metadata": {},
   "source": [
    "### Task 7 - Iterating over a dictionary data structure "
   ]
  },
  {
   "cell_type": "code",
   "execution_count": 7,
   "id": "9ab355a7",
   "metadata": {},
   "outputs": [
    {
     "name": "stdout",
     "output_type": "stream",
     "text": [
      "Enter the size :4\n",
      "Enter the language: Python\n",
      "Enter the num : 1\n",
      "Enter the language: Data\n",
      "Enter the num : 2\n",
      "Enter the language: Excel\n",
      "Enter the num : 3\n",
      "Enter the language: SQL\n",
      "Enter the num : 4\n",
      "Data_set =  {'Python': 1, 'Data': 2, 'Excel': 3, 'SQL': 4}\n"
     ]
    }
   ],
   "source": [
    "Data_set = {}\n",
    "size = int(input(\"Enter the size :\"))\n",
    "i = 0\n",
    "\n",
    "while i<size:\n",
    "    \n",
    "    language = input(\"Enter the language: \")\n",
    "    num = int(input(\"Enter the num : \"))\n",
    "    Data_set[language] = num\n",
    "    \n",
    "    i = i + 1\n",
    "    \n",
    "print(\"Data_set = \",Data_set)"
   ]
  },
  {
   "cell_type": "code",
   "execution_count": 16,
   "id": "3c8d0126",
   "metadata": {},
   "outputs": [
    {
     "name": "stdout",
     "output_type": "stream",
     "text": [
      "Data:2\n",
      "SQL:4\n"
     ]
    }
   ],
   "source": [
    "for key,value in Data_set.items():\n",
    "    if value % 2==0:\n",
    "        \n",
    "        print(f\"{key}:{value}\")"
   ]
  },
  {
   "cell_type": "markdown",
   "id": "bd5fc68b",
   "metadata": {},
   "source": [
    "Interpretation - Here in this task ,i have performed how get input from user and create a dictionary and then how to get a value of even numbers by using for loop.Here is the output "
   ]
  },
  {
   "cell_type": "markdown",
   "id": "e39560fb",
   "metadata": {},
   "source": [
    "### Task 8 - Populating a dictionary data structure "
   ]
  },
  {
   "cell_type": "code",
   "execution_count": 52,
   "id": "7e2e7a35",
   "metadata": {
    "scrolled": true
   },
   "outputs": [
    {
     "name": "stdout",
     "output_type": "stream",
     "text": [
      "1 : 1  , 2 : 4  , 3 : 9  , 4 : 16  , 5 : 25  , 6 : 36  , 7 : 49  , 8 : 64  , 9 : 81  , 10 : 100  , 11 : 121  , 12 : 144  , 13 : 169  , 14 : 196  , 15 : 225  , "
     ]
    }
   ],
   "source": [
    "D_set = {}\n",
    "\n",
    "for i in range(1,16):\n",
    "    D_set[i] = i * i \n",
    "    print(i,\":\",i*i,\" , \",end=\"\")\n",
    "    "
   ]
  },
  {
   "cell_type": "code",
   "execution_count": 55,
   "id": "7f055886",
   "metadata": {},
   "outputs": [],
   "source": [
    "D_set.update({100:10000})"
   ]
  },
  {
   "cell_type": "code",
   "execution_count": 56,
   "id": "57cb7f80",
   "metadata": {},
   "outputs": [
    {
     "name": "stdout",
     "output_type": "stream",
     "text": [
      "{1: 1, 2: 4, 3: 9, 4: 16, 5: 25, 6: 36, 7: 49, 8: 64, 9: 81, 10: 100, 11: 121, 12: 144, 13: 169, 14: 196, 15: 225, 100: 10000}\n"
     ]
    }
   ],
   "source": [
    "print(D_set)"
   ]
  },
  {
   "cell_type": "markdown",
   "id": "e32b8859",
   "metadata": {},
   "source": [
    "Interpretation - Here i have added a key and value to dictionary{} and then update the dictionary and added a element of {100: 10000}."
   ]
  },
  {
   "cell_type": "code",
   "execution_count": null,
   "id": "f9d53df2",
   "metadata": {},
   "outputs": [],
   "source": []
  }
 ],
 "metadata": {
  "kernelspec": {
   "display_name": "Python 3 (ipykernel)",
   "language": "python",
   "name": "python3"
  },
  "language_info": {
   "codemirror_mode": {
    "name": "ipython",
    "version": 3
   },
   "file_extension": ".py",
   "mimetype": "text/x-python",
   "name": "python",
   "nbconvert_exporter": "python",
   "pygments_lexer": "ipython3",
   "version": "3.11.3"
  }
 },
 "nbformat": 4,
 "nbformat_minor": 5
}
