{
 "cells": [
  {
   "cell_type": "markdown",
   "id": "65e241e5",
   "metadata": {},
   "source": [
    "### Task 1 "
   ]
  },
  {
   "cell_type": "code",
   "execution_count": 2,
   "id": "6e5d18e6",
   "metadata": {},
   "outputs": [],
   "source": [
    "import pandas as pd"
   ]
  },
  {
   "cell_type": "code",
   "execution_count": 11,
   "id": "88a59e0f",
   "metadata": {},
   "outputs": [],
   "source": [
    "import statistics as st"
   ]
  },
  {
   "cell_type": "code",
   "execution_count": 12,
   "id": "5137b8df",
   "metadata": {},
   "outputs": [],
   "source": [
    "import matplotlib.pyplot as plt"
   ]
  },
  {
   "cell_type": "code",
   "execution_count": 13,
   "id": "997fe2b8",
   "metadata": {
    "scrolled": true
   },
   "outputs": [
    {
     "data": {
      "text/html": [
       "<div>\n",
       "<style scoped>\n",
       "    .dataframe tbody tr th:only-of-type {\n",
       "        vertical-align: middle;\n",
       "    }\n",
       "\n",
       "    .dataframe tbody tr th {\n",
       "        vertical-align: top;\n",
       "    }\n",
       "\n",
       "    .dataframe thead th {\n",
       "        text-align: right;\n",
       "    }\n",
       "</style>\n",
       "<table border=\"1\" class=\"dataframe\">\n",
       "  <thead>\n",
       "    <tr style=\"text-align: right;\">\n",
       "      <th></th>\n",
       "      <th>Statistics</th>\n",
       "      <th>Python</th>\n",
       "      <th>Tableau</th>\n",
       "    </tr>\n",
       "  </thead>\n",
       "  <tbody>\n",
       "    <tr>\n",
       "      <th>0</th>\n",
       "      <td>61</td>\n",
       "      <td>86</td>\n",
       "      <td>66</td>\n",
       "    </tr>\n",
       "    <tr>\n",
       "      <th>1</th>\n",
       "      <td>54</td>\n",
       "      <td>86</td>\n",
       "      <td>72</td>\n",
       "    </tr>\n",
       "    <tr>\n",
       "      <th>2</th>\n",
       "      <td>56</td>\n",
       "      <td>80</td>\n",
       "      <td>78</td>\n",
       "    </tr>\n",
       "    <tr>\n",
       "      <th>3</th>\n",
       "      <td>54</td>\n",
       "      <td>85</td>\n",
       "      <td>45</td>\n",
       "    </tr>\n",
       "    <tr>\n",
       "      <th>4</th>\n",
       "      <td>53</td>\n",
       "      <td>84</td>\n",
       "      <td>68</td>\n",
       "    </tr>\n",
       "    <tr>\n",
       "      <th>...</th>\n",
       "      <td>...</td>\n",
       "      <td>...</td>\n",
       "      <td>...</td>\n",
       "    </tr>\n",
       "    <tr>\n",
       "      <th>95</th>\n",
       "      <td>60</td>\n",
       "      <td>76</td>\n",
       "      <td>64</td>\n",
       "    </tr>\n",
       "    <tr>\n",
       "      <th>96</th>\n",
       "      <td>59</td>\n",
       "      <td>89</td>\n",
       "      <td>70</td>\n",
       "    </tr>\n",
       "    <tr>\n",
       "      <th>97</th>\n",
       "      <td>62</td>\n",
       "      <td>80</td>\n",
       "      <td>46</td>\n",
       "    </tr>\n",
       "    <tr>\n",
       "      <th>98</th>\n",
       "      <td>58</td>\n",
       "      <td>89</td>\n",
       "      <td>74</td>\n",
       "    </tr>\n",
       "    <tr>\n",
       "      <th>99</th>\n",
       "      <td>67</td>\n",
       "      <td>77</td>\n",
       "      <td>70</td>\n",
       "    </tr>\n",
       "  </tbody>\n",
       "</table>\n",
       "<p>100 rows × 3 columns</p>\n",
       "</div>"
      ],
      "text/plain": [
       "    Statistics  Python  Tableau\n",
       "0           61      86       66\n",
       "1           54      86       72\n",
       "2           56      80       78\n",
       "3           54      85       45\n",
       "4           53      84       68\n",
       "..         ...     ...      ...\n",
       "95          60      76       64\n",
       "96          59      89       70\n",
       "97          62      80       46\n",
       "98          58      89       74\n",
       "99          67      77       70\n",
       "\n",
       "[100 rows x 3 columns]"
      ]
     },
     "execution_count": 13,
     "metadata": {},
     "output_type": "execute_result"
    }
   ],
   "source": [
    "df = pd.read_csv(\"DS1_C4_S7_Students_Scores_Data_Practice.csv\")\n",
    "df"
   ]
  },
  {
   "cell_type": "code",
   "execution_count": 14,
   "id": "8979346b",
   "metadata": {},
   "outputs": [
    {
     "data": {
      "text/html": [
       "<div>\n",
       "<style scoped>\n",
       "    .dataframe tbody tr th:only-of-type {\n",
       "        vertical-align: middle;\n",
       "    }\n",
       "\n",
       "    .dataframe tbody tr th {\n",
       "        vertical-align: top;\n",
       "    }\n",
       "\n",
       "    .dataframe thead th {\n",
       "        text-align: right;\n",
       "    }\n",
       "</style>\n",
       "<table border=\"1\" class=\"dataframe\">\n",
       "  <thead>\n",
       "    <tr style=\"text-align: right;\">\n",
       "      <th></th>\n",
       "      <th>Measures</th>\n",
       "      <th>Statistics</th>\n",
       "      <th>Python</th>\n",
       "      <th>Tableau</th>\n",
       "    </tr>\n",
       "  </thead>\n",
       "  <tbody>\n",
       "    <tr>\n",
       "      <th>0</th>\n",
       "      <td>Mean</td>\n",
       "      <td>60.89</td>\n",
       "      <td>81.84</td>\n",
       "      <td>68.02</td>\n",
       "    </tr>\n",
       "    <tr>\n",
       "      <th>1</th>\n",
       "      <td>Median</td>\n",
       "      <td>60.00</td>\n",
       "      <td>82.00</td>\n",
       "      <td>69.00</td>\n",
       "    </tr>\n",
       "    <tr>\n",
       "      <th>2</th>\n",
       "      <td>Mode</td>\n",
       "      <td>55.00</td>\n",
       "      <td>86.00</td>\n",
       "      <td>65.00</td>\n",
       "    </tr>\n",
       "  </tbody>\n",
       "</table>\n",
       "</div>"
      ],
      "text/plain": [
       "  Measures  Statistics  Python  Tableau\n",
       "0     Mean       60.89   81.84    68.02\n",
       "1   Median       60.00   82.00    69.00\n",
       "2     Mode       55.00   86.00    65.00"
      ]
     },
     "execution_count": 14,
     "metadata": {},
     "output_type": "execute_result"
    }
   ],
   "source": [
    "Mean=[]\n",
    "Median=[]\n",
    "Mode=[]\n",
    "\n",
    "\n",
    "for col in df:\n",
    "    Mean.append(df.loc[:,col].mean()) \n",
    "    Median.append(df.loc[:,col].median()) \n",
    "    Mode.append(st.mode(df[col])) \n",
    "    \n",
    "row_head=['Mean','Median','Mode']\n",
    "col_names=['Statistics','Python','Tableau']\n",
    "\n",
    "\n",
    "data=pd.DataFrame([Mean, Median, Mode],columns=col_names)\n",
    "\n",
    "\n",
    "data.insert(0, \"Measures\", row_head, True)\n",
    "\n",
    "data"
   ]
  },
  {
   "cell_type": "markdown",
   "id": "0a1b1698",
   "metadata": {},
   "source": [
    "Interprpetation - The students are well performed in the python subject than other two"
   ]
  },
  {
   "cell_type": "markdown",
   "id": "4172ad6b",
   "metadata": {},
   "source": [
    "### Task 2 "
   ]
  },
  {
   "cell_type": "code",
   "execution_count": 15,
   "id": "49137109",
   "metadata": {},
   "outputs": [
    {
     "data": {
      "text/html": [
       "<div>\n",
       "<style scoped>\n",
       "    .dataframe tbody tr th:only-of-type {\n",
       "        vertical-align: middle;\n",
       "    }\n",
       "\n",
       "    .dataframe tbody tr th {\n",
       "        vertical-align: top;\n",
       "    }\n",
       "\n",
       "    .dataframe thead th {\n",
       "        text-align: right;\n",
       "    }\n",
       "</style>\n",
       "<table border=\"1\" class=\"dataframe\">\n",
       "  <thead>\n",
       "    <tr style=\"text-align: right;\">\n",
       "      <th></th>\n",
       "      <th>Measures</th>\n",
       "      <th>Statistics</th>\n",
       "      <th>Python</th>\n",
       "      <th>Tableau</th>\n",
       "    </tr>\n",
       "  </thead>\n",
       "  <tbody>\n",
       "    <tr>\n",
       "      <th>0</th>\n",
       "      <td>Mean</td>\n",
       "      <td>60.890000</td>\n",
       "      <td>81.840000</td>\n",
       "      <td>68.020000</td>\n",
       "    </tr>\n",
       "    <tr>\n",
       "      <th>1</th>\n",
       "      <td>Standard Deviation</td>\n",
       "      <td>7.236126</td>\n",
       "      <td>4.345484</td>\n",
       "      <td>7.320899</td>\n",
       "    </tr>\n",
       "    <tr>\n",
       "      <th>2</th>\n",
       "      <td>Coefficient of Variation</td>\n",
       "      <td>11.883931</td>\n",
       "      <td>5.309731</td>\n",
       "      <td>10.762862</td>\n",
       "    </tr>\n",
       "  </tbody>\n",
       "</table>\n",
       "</div>"
      ],
      "text/plain": [
       "                   Measures  Statistics     Python    Tableau\n",
       "0                      Mean   60.890000  81.840000  68.020000\n",
       "1        Standard Deviation    7.236126   4.345484   7.320899\n",
       "2  Coefficient of Variation   11.883931   5.309731  10.762862"
      ]
     },
     "execution_count": 15,
     "metadata": {},
     "output_type": "execute_result"
    }
   ],
   "source": [
    "Mean=[]\n",
    "SD=[]\n",
    "CV=[]\n",
    "\n",
    "for col in df.head():\n",
    "    col_mean=df.loc[:,col].mean()  \n",
    "    Mean.append(col_mean) \n",
    "    col_sd=df.loc[:,col].std() \n",
    "    SD.append(col_sd) \n",
    "    CV.append(col_sd/col_mean*100)  \n",
    "row_head=['Mean','Standard Deviation','Coefficient of Variation']\n",
    "col_names=['Statistics','Python','Tableau']\n",
    "\n",
    "data=pd.DataFrame([Mean, SD, CV],columns=col_names)\n",
    "\n",
    "data.insert(0, \"Measures\", row_head, True)\n",
    "data"
   ]
  },
  {
   "cell_type": "markdown",
   "id": "979282df",
   "metadata": {},
   "source": [
    "Interpretation - Here , python shows the best performance of the class"
   ]
  },
  {
   "cell_type": "markdown",
   "id": "1c0b6759",
   "metadata": {},
   "source": [
    "### Task 3 "
   ]
  },
  {
   "cell_type": "code",
   "execution_count": 16,
   "id": "6e288f12",
   "metadata": {},
   "outputs": [
    {
     "data": {
      "text/html": [
       "<div>\n",
       "<style scoped>\n",
       "    .dataframe tbody tr th:only-of-type {\n",
       "        vertical-align: middle;\n",
       "    }\n",
       "\n",
       "    .dataframe tbody tr th {\n",
       "        vertical-align: top;\n",
       "    }\n",
       "\n",
       "    .dataframe thead th {\n",
       "        text-align: right;\n",
       "    }\n",
       "</style>\n",
       "<table border=\"1\" class=\"dataframe\">\n",
       "  <thead>\n",
       "    <tr style=\"text-align: right;\">\n",
       "      <th></th>\n",
       "      <th>student</th>\n",
       "      <th>Min</th>\n",
       "      <th>Max</th>\n",
       "      <th>Range</th>\n",
       "      <th>Q1</th>\n",
       "      <th>Q3</th>\n",
       "      <th>IQR</th>\n",
       "      <th>Lower Fence</th>\n",
       "      <th>Upper Fence</th>\n",
       "      <th>Outliers</th>\n",
       "    </tr>\n",
       "  </thead>\n",
       "  <tbody>\n",
       "    <tr>\n",
       "      <th>0</th>\n",
       "      <td>Statistics</td>\n",
       "      <td>50</td>\n",
       "      <td>74</td>\n",
       "      <td>24</td>\n",
       "      <td>54.0</td>\n",
       "      <td>67.00</td>\n",
       "      <td>13.00</td>\n",
       "      <td>34.500</td>\n",
       "      <td>86.500</td>\n",
       "      <td>[[], []]</td>\n",
       "    </tr>\n",
       "    <tr>\n",
       "      <th>1</th>\n",
       "      <td>Python</td>\n",
       "      <td>75</td>\n",
       "      <td>89</td>\n",
       "      <td>14</td>\n",
       "      <td>78.0</td>\n",
       "      <td>86.00</td>\n",
       "      <td>8.00</td>\n",
       "      <td>66.000</td>\n",
       "      <td>98.000</td>\n",
       "      <td>[[], []]</td>\n",
       "    </tr>\n",
       "    <tr>\n",
       "      <th>2</th>\n",
       "      <td>Tableau</td>\n",
       "      <td>45</td>\n",
       "      <td>79</td>\n",
       "      <td>34</td>\n",
       "      <td>64.0</td>\n",
       "      <td>73.25</td>\n",
       "      <td>9.25</td>\n",
       "      <td>50.125</td>\n",
       "      <td>87.125</td>\n",
       "      <td>[[45, 50, 50, 50, 46, 46], []]</td>\n",
       "    </tr>\n",
       "  </tbody>\n",
       "</table>\n",
       "</div>"
      ],
      "text/plain": [
       "      student  Min  Max  Range    Q1     Q3    IQR  Lower Fence  Upper Fence  \\\n",
       "0  Statistics   50   74     24  54.0  67.00  13.00       34.500       86.500   \n",
       "1      Python   75   89     14  78.0  86.00   8.00       66.000       98.000   \n",
       "2     Tableau   45   79     34  64.0  73.25   9.25       50.125       87.125   \n",
       "\n",
       "                         Outliers  \n",
       "0                        [[], []]  \n",
       "1                        [[], []]  \n",
       "2  [[45, 50, 50, 50, 46, 46], []]  "
      ]
     },
     "execution_count": 16,
     "metadata": {},
     "output_type": "execute_result"
    }
   ],
   "source": [
    "for student in df.head():\n",
    "    LO=[]\n",
    "    UO=[]\n",
    "    student_series=pd.Series(df[student]) \n",
    "    \n",
    "    Min=min(student_series) \n",
    "    Max=max(student_series) \n",
    "    Range=Max-Min \n",
    "    \n",
    "    Q1=student_series.quantile(0.25) \n",
    "    Q3=student_series.quantile(0.75) \n",
    "    IQR=Q3-Q1 \n",
    "    UF=Q3+1.5*IQR\n",
    "    LF=Q1-1.5*IQR \n",
    "    \n",
    "    # The rule of 1.5 * IQR \n",
    "    # (IQR*1.5) = k \n",
    "    # Any point beyond Q3+k is an outlier \n",
    "    # Any point beyond Q1-k is an outlier \n",
    "    for i in df[student]:\n",
    "        if(i<LF):\n",
    "            LO.append(i)\n",
    "        if(i>UF):\n",
    "            UO.append(i)\n",
    "    \n",
    "    #Storing all above the calculated minimum, maximum, range, Q1, Q3, IQR, \n",
    "    #upper fence, lower fence, and outliers into respective lists\n",
    "    if(student==\"Statistics\"):\n",
    "        Statistics=['Statistics',Min, Max, Range, Q1, Q3, IQR, LF, UF,[LO,UO]]\n",
    "    elif(student==\"Python\"):\n",
    "        Python=['Python',Min, Max, Range, Q1, Q3, IQR, LF, UF,[LO,UO]]\n",
    "    else:\n",
    "        \n",
    "        Tableau=['Tableau',Min, Max, Range, Q1, Q3, IQR, LF, UF,[LO,UO]] \n",
    "        \n",
    "col_names=['student','Min','Max','Range','Q1','Q3','IQR','Lower Fence', 'Upper Fence','Outliers']\n",
    "\n",
    "data=pd.DataFrame([Statistics,Python ,Tableau],columns=col_names) \n",
    "data"
   ]
  },
  {
   "cell_type": "markdown",
   "id": "6ffef2d1",
   "metadata": {},
   "source": [
    "Interpretation -  Here the Tablue subject is more skewed "
   ]
  },
  {
   "cell_type": "markdown",
   "id": "eeb5aa2a",
   "metadata": {},
   "source": [
    "### Task 4 "
   ]
  },
  {
   "cell_type": "code",
   "execution_count": 17,
   "id": "07d441b6",
   "metadata": {},
   "outputs": [],
   "source": [
    "Statistics_data=df['Statistics'].tolist()\n",
    "Python_data=df['Python'].tolist()\n",
    "Tableau_data=df['Tableau'].tolist()"
   ]
  },
  {
   "cell_type": "code",
   "execution_count": 18,
   "id": "bbb773c4",
   "metadata": {},
   "outputs": [
    {
     "data": {
      "image/png": "[encoded data removed]",
      "text/plain": [
       "<Figure size 600x400 with 1 Axes>"
      ]
     },
     "metadata": {},
     "output_type": "display_data"
    }
   ],
   "source": [
    "fig = plt.figure(figsize =(6, 4))\n",
    "\n",
    "ax = fig.add_axes([0, 0, 1, 1])\n",
    "\n",
    "plt.boxplot([Statistics_data,Python_data,Tableau_data],vert=0)\n",
    "\n",
    "ax.set_yticklabels(['Statistics', 'Python','Tableau'])\n",
    "\n",
    "plt.show()"
   ]
  },
  {
   "cell_type": "markdown",
   "id": "bd97fe87",
   "metadata": {},
   "source": [
    "Interpretation - here i have present the data with the box plot , Tablue score is more skewed"
   ]
  },
  {
   "cell_type": "markdown",
   "id": "040820cc",
   "metadata": {},
   "source": [
    "### Task - 5 "
   ]
  },
  {
   "cell_type": "code",
   "execution_count": 20,
   "id": "22d5643c",
   "metadata": {},
   "outputs": [
    {
     "data": {
      "image/png": "[encoded data removed]",
      "text/plain": [
       "<Figure size 640x480 with 1 Axes>"
      ]
     },
     "metadata": {},
     "output_type": "display_data"
    }
   ],
   "source": [
    "from scipy.stats import norm\n",
    "\n",
    "Statistics_data=sorted(Statistics_data)\n",
    "Python_data=sorted(Python_data)\n",
    "Tableau_data=sorted(Tableau_data)\n",
    "\n",
    "S_mean = st.mean(Statistics_data)\n",
    "S_sd = st.stdev(Statistics_data)\n",
    "P_mean = st.mean(Python_data)\n",
    "P_sd = st.stdev(Python_data)\n",
    "T_mean = st.mean(Tableau_data)\n",
    "T_sd = st.stdev(Tableau_data)\n",
    "\n",
    "#Drawing plots using sorted data and normalized data\n",
    "plt.plot(Statistics_data, norm.pdf(Statistics_data, S_mean, S_sd), color='orange', label='Statistics')\n",
    "plt.plot(Python_data, norm.pdf(Python_data, P_mean, P_sd),color='green', label='Python')\n",
    "plt.plot(Tableau_data, norm.pdf(Tableau_data, T_mean, T_sd), color='blue', label='Tableau')\n",
    "\n",
    "#Attaching legend\n",
    "plt.legend()\n",
    "\n",
    "#Showing the final plot\n",
    "plt.show()"
   ]
  },
  {
   "cell_type": "code",
   "execution_count": 21,
   "id": "bf8e0982",
   "metadata": {},
   "outputs": [
    {
     "name": "stdout",
     "output_type": "stream",
     "text": [
      "Kurtosis of 25 samples of statistics subject -1.2890343729055107\n",
      "Kurtosis of 25 samples of Python subject -1.2748529079288784\n",
      "Kurtosis of 25 samples of Tablue subject 1.442459054422362\n"
     ]
    }
   ],
   "source": [
    "from scipy.stats import kurtosis \n",
    "\n",
    "print(\"Kurtosis of 25 samples of statistics subject\",kurtosis(Statistics_data))\n",
    "print(\"Kurtosis of 25 samples of Python subject\",kurtosis(Python_data))\n",
    "print(\"Kurtosis of 25 samples of Tablue subject\",kurtosis(Tableau_data))"
   ]
  },
  {
   "cell_type": "markdown",
   "id": "ee54bd63",
   "metadata": {},
   "source": [
    "interpretation - Here i have displayed the distribution of data for each subject and the kurtosis analysis for each subject"
   ]
  },
  {
   "cell_type": "code",
   "execution_count": null,
   "id": "d411e2a2",
   "metadata": {},
   "outputs": [],
   "source": []
  }
 ],
 "metadata": {
  "kernelspec": {
   "display_name": "Python 3 (ipykernel)",
   "language": "python",
   "name": "python3"
  },
  "language_info": {
   "codemirror_mode": {
    "name": "ipython",
    "version": 3
   },
   "file_extension": ".py",
   "mimetype": "text/x-python",
   "name": "python",
   "nbconvert_exporter": "python",
   "pygments_lexer": "ipython3",
   "version": "3.11.3"
  }
 },
 "nbformat": 4,
 "nbformat_minor": 5
}
