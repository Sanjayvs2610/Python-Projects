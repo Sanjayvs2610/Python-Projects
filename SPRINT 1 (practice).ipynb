{
 "cells": [
  {
   "cell_type": "markdown",
   "id": "196762b6",
   "metadata": {},
   "source": [
    "# Sprint 1 (Practice)"
   ]
  },
  {
   "cell_type": "markdown",
   "id": "ae919027",
   "metadata": {},
   "source": [
    "## Task 1- Creating variables "
   ]
  },
  {
   "cell_type": "markdown",
   "id": "2ddc8467",
   "metadata": {},
   "source": [
    "1) a)Create a variable name rollno and assign a integer value to it"
   ]
  },
  {
   "cell_type": "code",
   "execution_count": 1,
   "id": "5c29a257",
   "metadata": {},
   "outputs": [],
   "source": [
    "rollno=14"
   ]
  },
  {
   "cell_type": "code",
   "execution_count": 2,
   "id": "fb5ac151",
   "metadata": {},
   "outputs": [
    {
     "data": {
      "text/plain": [
       "14"
      ]
     },
     "execution_count": 2,
     "metadata": {},
     "output_type": "execute_result"
    }
   ],
   "source": [
    "rollno"
   ]
  },
  {
   "cell_type": "code",
   "execution_count": 3,
   "id": "dd8e6928",
   "metadata": {},
   "outputs": [
    {
     "data": {
      "text/plain": [
       "140705348424904"
      ]
     },
     "execution_count": 3,
     "metadata": {},
     "output_type": "execute_result"
    }
   ],
   "source": [
    "id(rollno)"
   ]
  },
  {
   "cell_type": "code",
   "execution_count": 4,
   "id": "dc5ba6e2",
   "metadata": {},
   "outputs": [
    {
     "data": {
      "text/plain": [
       "int"
      ]
     },
     "execution_count": 4,
     "metadata": {},
     "output_type": "execute_result"
    }
   ],
   "source": [
    "type(rollno)"
   ]
  },
  {
   "cell_type": "markdown",
   "id": "7f78bc4e",
   "metadata": {},
   "source": [
    "1) b)create a variable firstname and assign astring value to it "
   ]
  },
  {
   "cell_type": "code",
   "execution_count": 39,
   "id": "9c8f1bf9",
   "metadata": {},
   "outputs": [],
   "source": [
    "firstname=\"Krithik\""
   ]
  },
  {
   "cell_type": "code",
   "execution_count": 40,
   "id": "4a2fe7e1",
   "metadata": {},
   "outputs": [
    {
     "data": {
      "text/plain": [
       "'Krithik'"
      ]
     },
     "execution_count": 40,
     "metadata": {},
     "output_type": "execute_result"
    }
   ],
   "source": [
    "firstname"
   ]
  },
  {
   "cell_type": "code",
   "execution_count": 41,
   "id": "9bf7810f",
   "metadata": {},
   "outputs": [
    {
     "data": {
      "text/plain": [
       "1707560289200"
      ]
     },
     "execution_count": 41,
     "metadata": {},
     "output_type": "execute_result"
    }
   ],
   "source": [
    "id(firstname)"
   ]
  },
  {
   "cell_type": "code",
   "execution_count": 42,
   "id": "6a69a5a7",
   "metadata": {},
   "outputs": [
    {
     "data": {
      "text/plain": [
       "str"
      ]
     },
     "execution_count": 42,
     "metadata": {},
     "output_type": "execute_result"
    }
   ],
   "source": [
    "type(firstname)"
   ]
  },
  {
   "cell_type": "markdown",
   "id": "c2e05b86",
   "metadata": {},
   "source": [
    "1) c)Create a variable lastname and assign a string value to it"
   ]
  },
  {
   "cell_type": "code",
   "execution_count": 9,
   "id": "c5e1d7bb",
   "metadata": {},
   "outputs": [],
   "source": [
    "lastname=\"Roshan\""
   ]
  },
  {
   "cell_type": "code",
   "execution_count": 10,
   "id": "e759befb",
   "metadata": {},
   "outputs": [
    {
     "data": {
      "text/plain": [
       "'Roshan'"
      ]
     },
     "execution_count": 10,
     "metadata": {},
     "output_type": "execute_result"
    }
   ],
   "source": [
    "lastname"
   ]
  },
  {
   "cell_type": "code",
   "execution_count": 11,
   "id": "5aeb5b18",
   "metadata": {},
   "outputs": [
    {
     "data": {
      "text/plain": [
       "2227222628528"
      ]
     },
     "execution_count": 11,
     "metadata": {},
     "output_type": "execute_result"
    }
   ],
   "source": [
    "id(lastname)"
   ]
  },
  {
   "cell_type": "code",
   "execution_count": 12,
   "id": "ff8ba51c",
   "metadata": {},
   "outputs": [
    {
     "data": {
      "text/plain": [
       "str"
      ]
     },
     "execution_count": 12,
     "metadata": {},
     "output_type": "execute_result"
    }
   ],
   "source": [
    "type(lastname)"
   ]
  },
  {
   "cell_type": "markdown",
   "id": "700fba94",
   "metadata": {},
   "source": [
    "1) d)Create a variable maxmarks and assign a value 50 to it"
   ]
  },
  {
   "cell_type": "code",
   "execution_count": 15,
   "id": "d6ba4438",
   "metadata": {},
   "outputs": [],
   "source": [
    "maxmarks=50"
   ]
  },
  {
   "cell_type": "code",
   "execution_count": 16,
   "id": "0e78c3dc",
   "metadata": {},
   "outputs": [
    {
     "data": {
      "text/plain": [
       "50"
      ]
     },
     "execution_count": 16,
     "metadata": {},
     "output_type": "execute_result"
    }
   ],
   "source": [
    "maxmarks"
   ]
  },
  {
   "cell_type": "code",
   "execution_count": 17,
   "id": "1b57427a",
   "metadata": {},
   "outputs": [
    {
     "data": {
      "text/plain": [
       "140705348426056"
      ]
     },
     "execution_count": 17,
     "metadata": {},
     "output_type": "execute_result"
    }
   ],
   "source": [
    "id(maxmarks)"
   ]
  },
  {
   "cell_type": "code",
   "execution_count": 18,
   "id": "30bd3864",
   "metadata": {},
   "outputs": [
    {
     "data": {
      "text/plain": [
       "int"
      ]
     },
     "execution_count": 18,
     "metadata": {},
     "output_type": "execute_result"
    }
   ],
   "source": [
    "type(maxmarks)"
   ]
  },
  {
   "cell_type": "markdown",
   "id": "60379aed",
   "metadata": {},
   "source": [
    "##  Task 2- Naming a variable "
   ]
  },
  {
   "cell_type": "markdown",
   "id": "35ab8499",
   "metadata": {},
   "source": [
    "2) a) "
   ]
  },
  {
   "cell_type": "code",
   "execution_count": 19,
   "id": "61740989",
   "metadata": {},
   "outputs": [],
   "source": [
    "var1=2"
   ]
  },
  {
   "cell_type": "code",
   "execution_count": 20,
   "id": "af31de3a",
   "metadata": {},
   "outputs": [
    {
     "data": {
      "text/plain": [
       "2"
      ]
     },
     "execution_count": 20,
     "metadata": {},
     "output_type": "execute_result"
    }
   ],
   "source": [
    "var1"
   ]
  },
  {
   "cell_type": "markdown",
   "id": "001b4834",
   "metadata": {},
   "source": [
    "2) b)"
   ]
  },
  {
   "cell_type": "code",
   "execution_count": 21,
   "id": "8d4ac43b",
   "metadata": {},
   "outputs": [
    {
     "ename": "SyntaxError",
     "evalue": "invalid decimal literal (1729216075.py, line 1)",
     "output_type": "error",
     "traceback": [
      "\u001b[1;36m  Cell \u001b[1;32mIn[21], line 1\u001b[1;36m\u001b[0m\n\u001b[1;33m    2var=2\u001b[0m\n\u001b[1;37m    ^\u001b[0m\n\u001b[1;31mSyntaxError\u001b[0m\u001b[1;31m:\u001b[0m invalid decimal literal\n"
     ]
    }
   ],
   "source": [
    "2var=2"
   ]
  },
  {
   "cell_type": "markdown",
   "id": "160a9a0d",
   "metadata": {},
   "source": [
    "2) c)"
   ]
  },
  {
   "cell_type": "code",
   "execution_count": 22,
   "id": "5717e9ad",
   "metadata": {},
   "outputs": [
    {
     "ename": "SyntaxError",
     "evalue": "invalid syntax (3073352835.py, line 1)",
     "output_type": "error",
     "traceback": [
      "\u001b[1;36m  Cell \u001b[1;32mIn[22], line 1\u001b[1;36m\u001b[0m\n\u001b[1;33m    var 1=2\u001b[0m\n\u001b[1;37m        ^\u001b[0m\n\u001b[1;31mSyntaxError\u001b[0m\u001b[1;31m:\u001b[0m invalid syntax\n"
     ]
    }
   ],
   "source": [
    "var 1=2"
   ]
  },
  {
   "cell_type": "markdown",
   "id": "e16e4b6f",
   "metadata": {},
   "source": [
    "2) d)"
   ]
  },
  {
   "cell_type": "code",
   "execution_count": 23,
   "id": "8909ef9f",
   "metadata": {},
   "outputs": [
    {
     "ename": "SyntaxError",
     "evalue": "invalid syntax (661466017.py, line 1)",
     "output_type": "error",
     "traceback": [
      "\u001b[1;36m  Cell \u001b[1;32mIn[23], line 1\u001b[1;36m\u001b[0m\n\u001b[1;33m    var$2=2\u001b[0m\n\u001b[1;37m       ^\u001b[0m\n\u001b[1;31mSyntaxError\u001b[0m\u001b[1;31m:\u001b[0m invalid syntax\n"
     ]
    }
   ],
   "source": [
    "var$2=2"
   ]
  },
  {
   "cell_type": "markdown",
   "id": "9d956ebc",
   "metadata": {},
   "source": [
    "## Task 3- Assigning values to a variable "
   ]
  },
  {
   "cell_type": "markdown",
   "id": "b9fe974e",
   "metadata": {},
   "source": [
    "3) a)"
   ]
  },
  {
   "cell_type": "code",
   "execution_count": 24,
   "id": "42f20080",
   "metadata": {},
   "outputs": [],
   "source": [
    "Class=15"
   ]
  },
  {
   "cell_type": "code",
   "execution_count": 25,
   "id": "4f91aaf4",
   "metadata": {},
   "outputs": [
    {
     "data": {
      "text/plain": [
       "15"
      ]
     },
     "execution_count": 25,
     "metadata": {},
     "output_type": "execute_result"
    }
   ],
   "source": [
    "Class"
   ]
  },
  {
   "cell_type": "markdown",
   "id": "2c8c1698",
   "metadata": {},
   "source": [
    "3) b)"
   ]
  },
  {
   "cell_type": "code",
   "execution_count": 26,
   "id": "29158335",
   "metadata": {},
   "outputs": [
    {
     "ename": "SyntaxError",
     "evalue": "invalid syntax (1944381924.py, line 1)",
     "output_type": "error",
     "traceback": [
      "\u001b[1;36m  Cell \u001b[1;32mIn[26], line 1\u001b[1;36m\u001b[0m\n\u001b[1;33m    class=14\u001b[0m\n\u001b[1;37m         ^\u001b[0m\n\u001b[1;31mSyntaxError\u001b[0m\u001b[1;31m:\u001b[0m invalid syntax\n"
     ]
    }
   ],
   "source": [
    "class=14"
   ]
  },
  {
   "cell_type": "markdown",
   "id": "779a9d4f",
   "metadata": {},
   "source": [
    "3) c)"
   ]
  },
  {
   "cell_type": "code",
   "execution_count": 27,
   "id": "ad7f4651",
   "metadata": {},
   "outputs": [],
   "source": [
    "DEF=13"
   ]
  },
  {
   "cell_type": "code",
   "execution_count": 28,
   "id": "1d7f6bfd",
   "metadata": {},
   "outputs": [
    {
     "data": {
      "text/plain": [
       "13"
      ]
     },
     "execution_count": 28,
     "metadata": {},
     "output_type": "execute_result"
    }
   ],
   "source": [
    "DEF"
   ]
  },
  {
   "cell_type": "markdown",
   "id": "5aaa6056",
   "metadata": {},
   "source": [
    "3) d)"
   ]
  },
  {
   "cell_type": "code",
   "execution_count": 29,
   "id": "b7656f55",
   "metadata": {},
   "outputs": [
    {
     "ename": "SyntaxError",
     "evalue": "invalid syntax (1379353252.py, line 1)",
     "output_type": "error",
     "traceback": [
      "\u001b[1;36m  Cell \u001b[1;32mIn[29], line 1\u001b[1;36m\u001b[0m\n\u001b[1;33m    def=12\u001b[0m\n\u001b[1;37m       ^\u001b[0m\n\u001b[1;31mSyntaxError\u001b[0m\u001b[1;31m:\u001b[0m invalid syntax\n"
     ]
    }
   ],
   "source": [
    "def=12"
   ]
  },
  {
   "cell_type": "markdown",
   "id": "e31e2581",
   "metadata": {},
   "source": [
    "3) e)"
   ]
  },
  {
   "cell_type": "code",
   "execution_count": 30,
   "id": "17794644",
   "metadata": {},
   "outputs": [
    {
     "ename": "NameError",
     "evalue": "name 'TRUE' is not defined",
     "output_type": "error",
     "traceback": [
      "\u001b[1;31m---------------------------------------------------------------------------\u001b[0m",
      "\u001b[1;31mNameError\u001b[0m                                 Traceback (most recent call last)",
      "Cell \u001b[1;32mIn[30], line 1\u001b[0m\n\u001b[1;32m----> 1\u001b[0m a\u001b[38;5;241m=\u001b[39mTRUE\n",
      "\u001b[1;31mNameError\u001b[0m: name 'TRUE' is not defined"
     ]
    }
   ],
   "source": [
    "a=TRUE"
   ]
  },
  {
   "cell_type": "markdown",
   "id": "a8a66bf6",
   "metadata": {},
   "source": [
    "3) f)"
   ]
  },
  {
   "cell_type": "code",
   "execution_count": 31,
   "id": "adac74f5",
   "metadata": {},
   "outputs": [
    {
     "ename": "NameError",
     "evalue": "name 'false' is not defined",
     "output_type": "error",
     "traceback": [
      "\u001b[1;31m---------------------------------------------------------------------------\u001b[0m",
      "\u001b[1;31mNameError\u001b[0m                                 Traceback (most recent call last)",
      "Cell \u001b[1;32mIn[31], line 1\u001b[0m\n\u001b[1;32m----> 1\u001b[0m b\u001b[38;5;241m=\u001b[39mfalse\n",
      "\u001b[1;31mNameError\u001b[0m: name 'false' is not defined"
     ]
    }
   ],
   "source": [
    "b=false"
   ]
  },
  {
   "cell_type": "markdown",
   "id": "6e8a3fbe",
   "metadata": {},
   "source": [
    "## Task 4 - Using id() "
   ]
  },
  {
   "cell_type": "markdown",
   "id": "98271d67",
   "metadata": {},
   "source": [
    "4) a)Create a variable name marks and assign a float value"
   ]
  },
  {
   "cell_type": "code",
   "execution_count": 32,
   "id": "4504b041",
   "metadata": {},
   "outputs": [],
   "source": [
    "marks=76.55"
   ]
  },
  {
   "cell_type": "code",
   "execution_count": 33,
   "id": "93e83508",
   "metadata": {},
   "outputs": [
    {
     "data": {
      "text/plain": [
       "76.55"
      ]
     },
     "execution_count": 33,
     "metadata": {},
     "output_type": "execute_result"
    }
   ],
   "source": [
    "marks"
   ]
  },
  {
   "cell_type": "code",
   "execution_count": 34,
   "id": "0a9104bf",
   "metadata": {},
   "outputs": [
    {
     "data": {
      "text/plain": [
       "2227220556176"
      ]
     },
     "execution_count": 34,
     "metadata": {},
     "output_type": "execute_result"
    }
   ],
   "source": [
    "id(marks)"
   ]
  },
  {
   "cell_type": "code",
   "execution_count": 35,
   "id": "23c01362",
   "metadata": {},
   "outputs": [
    {
     "data": {
      "text/plain": [
       "float"
      ]
     },
     "execution_count": 35,
     "metadata": {},
     "output_type": "execute_result"
    }
   ],
   "source": [
    "type(marks)"
   ]
  },
  {
   "cell_type": "markdown",
   "id": "1a600dbc",
   "metadata": {},
   "source": [
    "4) b)change the value in the variable to other float value"
   ]
  },
  {
   "cell_type": "code",
   "execution_count": 36,
   "id": "ec22ef11",
   "metadata": {},
   "outputs": [],
   "source": [
    "marks=60.11"
   ]
  },
  {
   "cell_type": "code",
   "execution_count": 37,
   "id": "44d0362d",
   "metadata": {},
   "outputs": [
    {
     "data": {
      "text/plain": [
       "60.11"
      ]
     },
     "execution_count": 37,
     "metadata": {},
     "output_type": "execute_result"
    }
   ],
   "source": [
    "marks"
   ]
  },
  {
   "cell_type": "code",
   "execution_count": 38,
   "id": "d58c2a71",
   "metadata": {},
   "outputs": [
    {
     "data": {
      "text/plain": [
       "2227220560912"
      ]
     },
     "execution_count": 38,
     "metadata": {},
     "output_type": "execute_result"
    }
   ],
   "source": [
    "id(marks)"
   ]
  },
  {
   "cell_type": "code",
   "execution_count": 39,
   "id": "1e194ea2",
   "metadata": {},
   "outputs": [
    {
     "data": {
      "text/plain": [
       "float"
      ]
     },
     "execution_count": 39,
     "metadata": {},
     "output_type": "execute_result"
    }
   ],
   "source": [
    "type(marks)"
   ]
  },
  {
   "cell_type": "markdown",
   "id": "435b0a8f",
   "metadata": {},
   "source": [
    "4) c)Is the id for the mark variable in last two questions is same or different. Explain with justification"
   ]
  },
  {
   "cell_type": "markdown",
   "id": "f4a63d8e",
   "metadata": {},
   "source": [
    "In the above last two questions the id for the variable marks is different because the id can't be same ,\n",
    "it the stored location of the data ,so that they are different."
   ]
  },
  {
   "cell_type": "markdown",
   "id": "f9fcbc34",
   "metadata": {},
   "source": [
    "## Task 5- Formatting the output "
   ]
  },
  {
   "cell_type": "markdown",
   "id": "3349ea90",
   "metadata": {},
   "source": [
    "5) a)Define variable maxmarks and assign it as 100"
   ]
  },
  {
   "cell_type": "code",
   "execution_count": 43,
   "id": "ad7ac047",
   "metadata": {},
   "outputs": [],
   "source": [
    "maxmarks=100"
   ]
  },
  {
   "cell_type": "code",
   "execution_count": 44,
   "id": "ebf4a0f1",
   "metadata": {},
   "outputs": [],
   "source": [
    "marks=60"
   ]
  },
  {
   "cell_type": "code",
   "execution_count": 108,
   "id": "b68cfe4d",
   "metadata": {},
   "outputs": [],
   "source": [
    "percentage=(marks/maxmarks)*100"
   ]
  },
  {
   "cell_type": "code",
   "execution_count": 109,
   "id": "fbea597a",
   "metadata": {},
   "outputs": [
    {
     "name": "stdout",
     "output_type": "stream",
     "text": [
      "60.0 %\n"
     ]
    }
   ],
   "source": [
    "print(percentage,\"%\")"
   ]
  },
  {
   "cell_type": "markdown",
   "id": "c19e35ac",
   "metadata": {},
   "source": [
    "5) b)print the value of the variable fullname by joining firstname and lastname"
   ]
  },
  {
   "cell_type": "code",
   "execution_count": 99,
   "id": "1fcd8acc",
   "metadata": {},
   "outputs": [],
   "source": [
    "firstname=\"Krithik\"\n",
    "lastname=\"Roshan\"\n",
    "fullname=\"Krithik\"+\" Roshan\""
   ]
  },
  {
   "cell_type": "code",
   "execution_count": 100,
   "id": "b9770b51",
   "metadata": {},
   "outputs": [
    {
     "name": "stdout",
     "output_type": "stream",
     "text": [
      "Krithik Roshan\n"
     ]
    }
   ],
   "source": [
    "print(fullname)"
   ]
  },
  {
   "cell_type": "markdown",
   "id": "2391a14c",
   "metadata": {},
   "source": [
    "5) c)print the value of variable fullname with the text \"scored\" followed by the percentage of marks"
   ]
  },
  {
   "cell_type": "code",
   "execution_count": 110,
   "id": "a621e8b6",
   "metadata": {},
   "outputs": [
    {
     "name": "stdout",
     "output_type": "stream",
     "text": [
      "Krithik scored 60.0\n"
     ]
    }
   ],
   "source": [
    "print(firstname,\"scored\",percentage)"
   ]
  },
  {
   "cell_type": "markdown",
   "id": "2061f47a",
   "metadata": {},
   "source": [
    "## Task 6 - Creating data structures"
   ]
  },
  {
   "cell_type": "markdown",
   "id": "7f54ac52",
   "metadata": {},
   "source": [
    "6) a)use the variable rollno as key and the variable fullname as a value to cerate a dictionary data"
   ]
  },
  {
   "cell_type": "code",
   "execution_count": 11,
   "id": "b62a9a4f",
   "metadata": {},
   "outputs": [],
   "source": [
    "s={rollno:fullname}"
   ]
  },
  {
   "cell_type": "code",
   "execution_count": 12,
   "id": "2500e597",
   "metadata": {},
   "outputs": [
    {
     "name": "stdout",
     "output_type": "stream",
     "text": [
      "{14: 'Krithik Roshan'}\n"
     ]
    }
   ],
   "source": [
    "print(s)"
   ]
  },
  {
   "cell_type": "markdown",
   "id": "024de9b5",
   "metadata": {},
   "source": [
    "6) b)use the variable rollno,fullname and marks asthe value to create a list data structure"
   ]
  },
  {
   "cell_type": "code",
   "execution_count": 23,
   "id": "8050226b",
   "metadata": {},
   "outputs": [],
   "source": [
    "rollno=14\n",
    "fullname='Krithik Roshan'\n",
    "marks=76.55"
   ]
  },
  {
   "cell_type": "code",
   "execution_count": 24,
   "id": "bf81741c",
   "metadata": {},
   "outputs": [],
   "source": [
    "san=[rollno,fullname,marks]"
   ]
  },
  {
   "cell_type": "code",
   "execution_count": 25,
   "id": "49801d8b",
   "metadata": {},
   "outputs": [
    {
     "name": "stdout",
     "output_type": "stream",
     "text": [
      "[14, 'Krithik Roshan', 76.55]\n"
     ]
    }
   ],
   "source": [
    "print(san)"
   ]
  },
  {
   "cell_type": "markdown",
   "id": "78dbacfa",
   "metadata": {},
   "source": [
    "## Task 7 - Arithmetic operation "
   ]
  },
  {
   "cell_type": "markdown",
   "id": "7afbd475",
   "metadata": {},
   "source": [
    "Execute the following expression"
   ]
  },
  {
   "cell_type": "markdown",
   "id": "ad2a3845",
   "metadata": {},
   "source": [
    "a)"
   ]
  },
  {
   "cell_type": "code",
   "execution_count": 26,
   "id": "d1ee2a53",
   "metadata": {},
   "outputs": [
    {
     "ename": "TypeError",
     "evalue": "unsupported operand type(s) for +: 'int' and 'str'",
     "output_type": "error",
     "traceback": [
      "\u001b[1;31m---------------------------------------------------------------------------\u001b[0m",
      "\u001b[1;31mTypeError\u001b[0m                                 Traceback (most recent call last)",
      "Cell \u001b[1;32mIn[26], line 1\u001b[0m\n\u001b[1;32m----> 1\u001b[0m \u001b[38;5;241m1\u001b[39m\u001b[38;5;241m+\u001b[39m\u001b[38;5;124m\"\u001b[39m\u001b[38;5;124m2\u001b[39m\u001b[38;5;124m\"\u001b[39m\n",
      "\u001b[1;31mTypeError\u001b[0m: unsupported operand type(s) for +: 'int' and 'str'"
     ]
    }
   ],
   "source": [
    "1+\"2\""
   ]
  },
  {
   "cell_type": "markdown",
   "id": "71d060c5",
   "metadata": {},
   "source": [
    "Here , we can't use (\"\")double quotes for integer , we can use it for string values, the is consider as a string,so it displaying error  "
   ]
  },
  {
   "cell_type": "markdown",
   "id": "a8d7bc3a",
   "metadata": {},
   "source": [
    "b)"
   ]
  },
  {
   "cell_type": "code",
   "execution_count": 27,
   "id": "ad515264",
   "metadata": {},
   "outputs": [
    {
     "data": {
      "text/plain": [
       "'12'"
      ]
     },
     "execution_count": 27,
     "metadata": {},
     "output_type": "execute_result"
    }
   ],
   "source": [
    "\"1\"+\"2\""
   ]
  },
  {
   "cell_type": "markdown",
   "id": "10a5df59",
   "metadata": {},
   "source": [
    "here, in this task we have used (\"\") double quotes for both the value . it consider as a string value ,so here it has concatenation both values"
   ]
  },
  {
   "cell_type": "markdown",
   "id": "c81c2bb3",
   "metadata": {},
   "source": [
    "c)"
   ]
  },
  {
   "cell_type": "code",
   "execution_count": 28,
   "id": "8930aceb",
   "metadata": {},
   "outputs": [
    {
     "data": {
      "text/plain": [
       "0.5"
      ]
     },
     "execution_count": 28,
     "metadata": {},
     "output_type": "execute_result"
    }
   ],
   "source": [
    "1/2"
   ]
  },
  {
   "cell_type": "markdown",
   "id": "9306a129",
   "metadata": {},
   "source": [
    "its a normal type of division "
   ]
  },
  {
   "cell_type": "markdown",
   "id": "bf5f6856",
   "metadata": {},
   "source": [
    "d)"
   ]
  },
  {
   "cell_type": "code",
   "execution_count": 30,
   "id": "97f148a5",
   "metadata": {},
   "outputs": [
    {
     "data": {
      "text/plain": [
       "0"
      ]
     },
     "execution_count": 30,
     "metadata": {},
     "output_type": "execute_result"
    }
   ],
   "source": [
    "1//2"
   ]
  },
  {
   "cell_type": "markdown",
   "id": "926b0315",
   "metadata": {},
   "source": [
    "its called as a floor division \n",
    "\n"
   ]
  },
  {
   "cell_type": "markdown",
   "id": "f2ea2c04",
   "metadata": {},
   "source": [
    "## Task 8 - Execute the following command "
   ]
  },
  {
   "cell_type": "markdown",
   "id": "5b07f8d5",
   "metadata": {},
   "source": [
    "a)"
   ]
  },
  {
   "cell_type": "code",
   "execution_count": 31,
   "id": "d97219ed",
   "metadata": {},
   "outputs": [
    {
     "data": {
      "text/plain": [
       "True"
      ]
     },
     "execution_count": 31,
     "metadata": {},
     "output_type": "execute_result"
    }
   ],
   "source": [
    "True and True"
   ]
  },
  {
   "cell_type": "markdown",
   "id": "4e9f9788",
   "metadata": {},
   "source": [
    "Here, we used (and) operator ,it will shows true when both the values are satisfied"
   ]
  },
  {
   "cell_type": "markdown",
   "id": "a0847e47",
   "metadata": {},
   "source": [
    "b)"
   ]
  },
  {
   "cell_type": "code",
   "execution_count": 32,
   "id": "600a172c",
   "metadata": {},
   "outputs": [
    {
     "data": {
      "text/plain": [
       "False"
      ]
     },
     "execution_count": 32,
     "metadata": {},
     "output_type": "execute_result"
    }
   ],
   "source": [
    "True and False"
   ]
  },
  {
   "cell_type": "markdown",
   "id": "3040cc3c",
   "metadata": {},
   "source": [
    "Here, we used (and) operator , it will display the output s true when both the values are satisfied or else false"
   ]
  },
  {
   "cell_type": "markdown",
   "id": "fb9edcd5",
   "metadata": {},
   "source": [
    "c)"
   ]
  },
  {
   "cell_type": "code",
   "execution_count": 33,
   "id": "f08dd70d",
   "metadata": {},
   "outputs": [
    {
     "data": {
      "text/plain": [
       "True"
      ]
     },
     "execution_count": 33,
     "metadata": {},
     "output_type": "execute_result"
    }
   ],
   "source": [
    "False or True"
   ]
  },
  {
   "cell_type": "markdown",
   "id": "e9d51314",
   "metadata": {},
   "source": [
    "Here, we have used (or) operator, in this operator either one value satisfied it will show the result as true"
   ]
  },
  {
   "cell_type": "markdown",
   "id": "b5d09142",
   "metadata": {},
   "source": [
    "e)"
   ]
  },
  {
   "cell_type": "code",
   "execution_count": 35,
   "id": "eb8ec3dc",
   "metadata": {},
   "outputs": [
    {
     "data": {
      "text/plain": [
       "False"
      ]
     },
     "execution_count": 35,
     "metadata": {},
     "output_type": "execute_result"
    }
   ],
   "source": [
    "False or False"
   ]
  },
  {
   "cell_type": "markdown",
   "id": "419b2779",
   "metadata": {},
   "source": [
    "Here, we have used (or) operator, in this operator either one value satisfied it will show the result as true or else false"
   ]
  },
  {
   "cell_type": "markdown",
   "id": "7de75014",
   "metadata": {},
   "source": [
    "## Task 9 - identify and membership operations "
   ]
  },
  {
   "cell_type": "code",
   "execution_count": 44,
   "id": "2de5b540",
   "metadata": {},
   "outputs": [
    {
     "data": {
      "text/plain": [
       "True"
      ]
     },
     "execution_count": 44,
     "metadata": {},
     "output_type": "execute_result"
    }
   ],
   "source": [
    "firstname in fullname"
   ]
  },
  {
   "cell_type": "markdown",
   "id": "86a3105d",
   "metadata": {},
   "source": [
    "a) Here it satisfies the value because the firstname in the fullname so that here it shows the result as true"
   ]
  },
  {
   "cell_type": "code",
   "execution_count": 45,
   "id": "c8494f54",
   "metadata": {},
   "outputs": [
    {
     "data": {
      "text/plain": [
       "False"
      ]
     },
     "execution_count": 45,
     "metadata": {},
     "output_type": "execute_result"
    }
   ],
   "source": [
    "firstname is fullname"
   ]
  },
  {
   "cell_type": "markdown",
   "id": "fc4890a1",
   "metadata": {},
   "source": [
    "b) Here it does not satisfies because firstame is not the fullname ,it's the part of the name"
   ]
  },
  {
   "cell_type": "markdown",
   "id": "28af2610",
   "metadata": {},
   "source": [
    "## Task 10 - Associativity "
   ]
  },
  {
   "cell_type": "code",
   "execution_count": 47,
   "id": "3670a9c5",
   "metadata": {},
   "outputs": [],
   "source": [
    "a=4\n",
    "b=3\n",
    "c=2"
   ]
  },
  {
   "cell_type": "markdown",
   "id": "649d0d7d",
   "metadata": {},
   "source": [
    "a) print the value of d"
   ]
  },
  {
   "cell_type": "code",
   "execution_count": 49,
   "id": "fc390881",
   "metadata": {},
   "outputs": [],
   "source": [
    "d=a**b+c"
   ]
  },
  {
   "cell_type": "code",
   "execution_count": 50,
   "id": "97104e3e",
   "metadata": {},
   "outputs": [
    {
     "name": "stdout",
     "output_type": "stream",
     "text": [
      "66\n"
     ]
    }
   ],
   "source": [
    "print(d)"
   ]
  },
  {
   "cell_type": "markdown",
   "id": "e1c5194a",
   "metadata": {},
   "source": [
    "b)print the value of e"
   ]
  },
  {
   "cell_type": "code",
   "execution_count": 52,
   "id": "7520150f",
   "metadata": {},
   "outputs": [],
   "source": [
    "e=a**(b+c)"
   ]
  },
  {
   "cell_type": "code",
   "execution_count": 53,
   "id": "3163fdb1",
   "metadata": {},
   "outputs": [
    {
     "name": "stdout",
     "output_type": "stream",
     "text": [
      "1024\n"
     ]
    }
   ],
   "source": [
    "print(e)"
   ]
  },
  {
   "cell_type": "markdown",
   "id": "a555835e",
   "metadata": {},
   "source": [
    "c) Here in d and e ,both the answers are different because in d first the (4)3 and then it added the value 2 total =66\n",
    "but e first it added the value of b+c because the ()paranthesis will be given first preference here,4+2=6 and then (4)6=1024 "
   ]
  },
  {
   "cell_type": "code",
   "execution_count": null,
   "id": "cdd2058c",
   "metadata": {},
   "outputs": [],
   "source": []
  }
 ],
 "metadata": {
  "kernelspec": {
   "display_name": "Python 3 (ipykernel)",
   "language": "python",
   "name": "python3"
  },
  "language_info": {
   "codemirror_mode": {
    "name": "ipython",
    "version": 3
   },
   "file_extension": ".py",
   "mimetype": "text/x-python",
   "name": "python",
   "nbconvert_exporter": "python",
   "pygments_lexer": "ipython3",
   "version": "3.11.3"
  }
 },
 "nbformat": 4,
 "nbformat_minor": 5
}
