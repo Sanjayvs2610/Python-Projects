{
 "cells": [
  {
   "cell_type": "markdown",
   "id": "b44cb598",
   "metadata": {},
   "source": [
    "# Employee_data_analysis "
   ]
  },
  {
   "cell_type": "code",
   "execution_count": 5,
   "id": "aac8e8a4",
   "metadata": {},
   "outputs": [],
   "source": [
    "import numpy as np"
   ]
  },
  {
   "cell_type": "code",
   "execution_count": 6,
   "id": "5d3b0be6",
   "metadata": {},
   "outputs": [],
   "source": [
    "Employee_data = np.genfromtxt( 'DS1_C4_S1_Employee_Data_Challenge.csv',delimiter = ',',dtype = None,skip_header = 1)"
   ]
  },
  {
   "cell_type": "code",
   "execution_count": 7,
   "id": "686b1b30",
   "metadata": {},
   "outputs": [
    {
     "data": {
      "text/plain": [
       "array([[ 1, 22],\n",
       "       [ 2, 27],\n",
       "       [ 3, 31],\n",
       "       [ 4, 29],\n",
       "       [ 5, 27],\n",
       "       [ 6, 26],\n",
       "       [ 7, 27],\n",
       "       [ 8, 23],\n",
       "       [ 9, 27],\n",
       "       [10, 32],\n",
       "       [11, 28],\n",
       "       [12, 27],\n",
       "       [13, 22],\n",
       "       [14, 27],\n",
       "       [15, 35],\n",
       "       [16, 33],\n",
       "       [17, 28],\n",
       "       [18, 22],\n",
       "       [19, 25],\n",
       "       [20, 27],\n",
       "       [21, 37],\n",
       "       [22, 27],\n",
       "       [23, 24],\n",
       "       [24, 27],\n",
       "       [25, 28],\n",
       "       [26, 26],\n",
       "       [27, 27],\n",
       "       [28, 27],\n",
       "       [29, 29],\n",
       "       [30, 49],\n",
       "       [31, 26],\n",
       "       [32, 32],\n",
       "       [33, 26],\n",
       "       [34, 24],\n",
       "       [35, 24],\n",
       "       [36, 23],\n",
       "       [37, 28],\n",
       "       [38, 28],\n",
       "       [39, 22],\n",
       "       [40, 26],\n",
       "       [41, 32],\n",
       "       [42, 35],\n",
       "       [43, 33],\n",
       "       [44, 31],\n",
       "       [45, 30],\n",
       "       [46, 36],\n",
       "       [47, 22],\n",
       "       [48, 23],\n",
       "       [49, 32],\n",
       "       [50, 34]])"
      ]
     },
     "execution_count": 7,
     "metadata": {},
     "output_type": "execute_result"
    }
   ],
   "source": [
    "Employee_data"
   ]
  },
  {
   "cell_type": "markdown",
   "id": "1b10f90b",
   "metadata": {},
   "source": [
    "### Task 1 - Average of employee in the IT firm "
   ]
  },
  {
   "cell_type": "code",
   "execution_count": 8,
   "id": "0f35f36f",
   "metadata": {},
   "outputs": [],
   "source": [
    "age = Employee_data[:,1] "
   ]
  },
  {
   "cell_type": "code",
   "execution_count": 9,
   "id": "12688b05",
   "metadata": {},
   "outputs": [
    {
     "data": {
      "text/plain": [
       "array([22, 27, 31, 29, 27, 26, 27, 23, 27, 32, 28, 27, 22, 27, 35, 33, 28,\n",
       "       22, 25, 27, 37, 27, 24, 27, 28, 26, 27, 27, 29, 49, 26, 32, 26, 24,\n",
       "       24, 23, 28, 28, 22, 26, 32, 35, 33, 31, 30, 36, 22, 23, 32, 34])"
      ]
     },
     "execution_count": 9,
     "metadata": {},
     "output_type": "execute_result"
    }
   ],
   "source": [
    "age"
   ]
  },
  {
   "cell_type": "code",
   "execution_count": 10,
   "id": "6f641cea",
   "metadata": {},
   "outputs": [],
   "source": [
    "avg_age = np.mean(age)"
   ]
  },
  {
   "cell_type": "code",
   "execution_count": 11,
   "id": "aca2d75d",
   "metadata": {},
   "outputs": [
    {
     "data": {
      "text/plain": [
       "28.26"
      ]
     },
     "execution_count": 11,
     "metadata": {},
     "output_type": "execute_result"
    }
   ],
   "source": [
    "avg_age"
   ]
  },
  {
   "cell_type": "markdown",
   "id": "4e1ea7ba",
   "metadata": {},
   "source": [
    "### Task 2 - Display the employee id/code of those employees. who are over 25 year of age and find the count of these employees "
   ]
  },
  {
   "cell_type": "code",
   "execution_count": 12,
   "id": "93817ece",
   "metadata": {},
   "outputs": [],
   "source": [
    "age_greater = np.where(age>25)"
   ]
  },
  {
   "cell_type": "code",
   "execution_count": 13,
   "id": "e095091c",
   "metadata": {},
   "outputs": [
    {
     "data": {
      "text/plain": [
       "array([27, 31, 29, 27, 26, 27, 27, 32, 28, 27, 27, 35, 33, 28, 27, 37, 27,\n",
       "       27, 28, 26, 27, 27, 29, 49, 26, 32, 26, 28, 28, 26, 32, 35, 33, 31,\n",
       "       30, 36, 32, 34])"
      ]
     },
     "execution_count": 13,
     "metadata": {},
     "output_type": "execute_result"
    }
   ],
   "source": [
    "filtered_op = age[age_greater]\n",
    "filtered_op"
   ]
  },
  {
   "cell_type": "code",
   "execution_count": 14,
   "id": "3e7b8bfa",
   "metadata": {},
   "outputs": [
    {
     "data": {
      "text/plain": [
       "array([[ 2, 27],\n",
       "       [ 3, 31],\n",
       "       [ 4, 29],\n",
       "       [ 5, 27],\n",
       "       [ 6, 26],\n",
       "       [ 7, 27],\n",
       "       [ 9, 27],\n",
       "       [10, 32],\n",
       "       [11, 28],\n",
       "       [12, 27],\n",
       "       [14, 27],\n",
       "       [15, 35],\n",
       "       [16, 33],\n",
       "       [17, 28],\n",
       "       [20, 27],\n",
       "       [21, 37],\n",
       "       [22, 27],\n",
       "       [24, 27],\n",
       "       [25, 28],\n",
       "       [26, 26],\n",
       "       [27, 27],\n",
       "       [28, 27],\n",
       "       [29, 29],\n",
       "       [30, 49],\n",
       "       [31, 26],\n",
       "       [32, 32],\n",
       "       [33, 26],\n",
       "       [37, 28],\n",
       "       [38, 28],\n",
       "       [40, 26],\n",
       "       [41, 32],\n",
       "       [42, 35],\n",
       "       [43, 33],\n",
       "       [44, 31],\n",
       "       [45, 30],\n",
       "       [46, 36],\n",
       "       [49, 32],\n",
       "       [50, 34]])"
      ]
     },
     "execution_count": 14,
     "metadata": {},
     "output_type": "execute_result"
    }
   ],
   "source": [
    "a = Employee_data[age>25]\n",
    "a"
   ]
  },
  {
   "cell_type": "code",
   "execution_count": 45,
   "id": "325d34ff",
   "metadata": {},
   "outputs": [
    {
     "data": {
      "text/plain": [
       "array([ 2,  3,  4,  5,  6,  7,  9, 10, 11, 12, 14, 15, 16, 17, 20, 21, 22,\n",
       "       24, 25, 26, 27, 28, 29, 30, 31, 32, 33, 37, 38, 40, 41, 42, 43, 44,\n",
       "       45, 46, 49, 50])"
      ]
     },
     "execution_count": 45,
     "metadata": {},
     "output_type": "execute_result"
    }
   ],
   "source": [
    "id_of_employees = a[:,0]\n",
    "id_of_employees"
   ]
  },
  {
   "cell_type": "code",
   "execution_count": 23,
   "id": "82885804",
   "metadata": {},
   "outputs": [
    {
     "data": {
      "text/plain": [
       "38"
      ]
     },
     "execution_count": 23,
     "metadata": {},
     "output_type": "execute_result"
    }
   ],
   "source": [
    "count_of_employees = len(a)\n",
    "count_of_employees\n"
   ]
  },
  {
   "cell_type": "markdown",
   "id": "38489a59",
   "metadata": {},
   "source": [
    "Interpretation - Here i have Displayed the employee id/code of those employees. who are over 25 year of age and the count of these employees"
   ]
  },
  {
   "cell_type": "markdown",
   "id": "cc64a925",
   "metadata": {},
   "source": [
    "### Task 3 - The total no of employees whose age group of 30 to 35 years and display the id/codes of the employees "
   ]
  },
  {
   "cell_type": "code",
   "execution_count": 38,
   "id": "5b19930e",
   "metadata": {},
   "outputs": [
    {
     "data": {
      "text/plain": [
       "array([[ 3, 31],\n",
       "       [10, 32],\n",
       "       [15, 35],\n",
       "       [16, 33],\n",
       "       [32, 32],\n",
       "       [41, 32],\n",
       "       [42, 35],\n",
       "       [43, 33],\n",
       "       [44, 31],\n",
       "       [49, 32],\n",
       "       [50, 34]])"
      ]
     },
     "execution_count": 38,
     "metadata": {},
     "output_type": "execute_result"
    }
   ],
   "source": [
    "age_between = Employee_data[(age > 30) & (age < 36)]\n",
    "age_between"
   ]
  },
  {
   "cell_type": "code",
   "execution_count": 42,
   "id": "055a9793",
   "metadata": {},
   "outputs": [
    {
     "data": {
      "text/plain": [
       "array([ 3, 10, 15, 16, 32, 41, 42, 43, 44, 49, 50])"
      ]
     },
     "execution_count": 42,
     "metadata": {},
     "output_type": "execute_result"
    }
   ],
   "source": [
    "codes = age_between[:,0]\n",
    "codes"
   ]
  },
  {
   "cell_type": "code",
   "execution_count": 43,
   "id": "d591b064",
   "metadata": {},
   "outputs": [
    {
     "data": {
      "text/plain": [
       "11"
      ]
     },
     "execution_count": 43,
     "metadata": {},
     "output_type": "execute_result"
    }
   ],
   "source": [
    "len(age_between)"
   ]
  },
  {
   "cell_type": "markdown",
   "id": "38238820",
   "metadata": {},
   "source": [
    "Interpretation - Total number of employees whose age group between the age of 30 to 35 is 11 and also i have displayed the id of the employees ,who satisfy the above condition"
   ]
  },
  {
   "cell_type": "code",
   "execution_count": null,
   "id": "61f5ce3c",
   "metadata": {},
   "outputs": [],
   "source": []
  }
 ],
 "metadata": {
  "kernelspec": {
   "display_name": "Python 3 (ipykernel)",
   "language": "python",
   "name": "python3"
  },
  "language_info": {
   "codemirror_mode": {
    "name": "ipython",
    "version": 3
   },
   "file_extension": ".py",
   "mimetype": "text/x-python",
   "name": "python",
   "nbconvert_exporter": "python",
   "pygments_lexer": "ipython3",
   "version": "3.11.3"
  }
 },
 "nbformat": 4,
 "nbformat_minor": 5
}
