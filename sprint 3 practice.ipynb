{
 "cells": [
  {
   "cell_type": "markdown",
   "id": "163592cc",
   "metadata": {},
   "source": [
    "## Sprint 3 (practice)"
   ]
  },
  {
   "cell_type": "markdown",
   "id": "893e0677",
   "metadata": {},
   "source": [
    "### Task 1 - Searching a list "
   ]
  },
  {
   "cell_type": "code",
   "execution_count": 16,
   "id": "d43256e5",
   "metadata": {},
   "outputs": [
    {
     "name": "stdout",
     "output_type": "stream",
     "text": [
      "False\n"
     ]
    }
   ],
   "source": [
    "mynames='''[\"Joe\",\"Zoe\",\"World\",\"Brad\",\"Angelina\",\"World\",\"Zuki\",\"Tom\",\"Paris\",\"World\",\"Magic\"]'''\n",
    "if (\"USA\" in mynames):\n",
    "    print(\"True\")\n",
    "else:\n",
    "    print(\"False\")"
   ]
  },
  {
   "cell_type": "markdown",
   "id": "3252ffa7",
   "metadata": {},
   "source": [
    "interpretation - Here the output is false because USA doesn't exists in mynames"
   ]
  },
  {
   "cell_type": "markdown",
   "id": "595107e2",
   "metadata": {},
   "source": [
    "### Task 2 - frequency counts of element in the list "
   ]
  },
  {
   "cell_type": "code",
   "execution_count": 6,
   "id": "4e8dec6b",
   "metadata": {},
   "outputs": [
    {
     "name": "stdout",
     "output_type": "stream",
     "text": [
      "count of world= 3\n"
     ]
    }
   ],
   "source": [
    "mynames = [\"Joe\", \"Zoe\", \"World\", \"Brad\", \"Angelina\", \"World\", \"Zuki\", \"Tom\", \"Paris\", \"World\", \"Magic\"]\n",
    "count=mynames.count(\"World\")\n",
    "print(\"count of world=\",count)\n",
    "\n"
   ]
  },
  {
   "cell_type": "markdown",
   "id": "61a91007",
   "metadata": {},
   "source": [
    "interpretation - the world exists 3 times in mynames"
   ]
  },
  {
   "cell_type": "markdown",
   "id": "2cc1375c",
   "metadata": {},
   "source": [
    "### Task 3 - Looping over a list "
   ]
  },
  {
   "cell_type": "code",
   "execution_count": 1,
   "id": "e4e5675f",
   "metadata": {},
   "outputs": [
    {
     "name": "stdout",
     "output_type": "stream",
     "text": [
      "Total even numbers: 14\n",
      "Total odd numbers: 15\n"
     ]
    }
   ],
   "source": [
    "numlist=list(range(1,30))\n",
    "even_count=0\n",
    "odd_count=0\n",
    "for num in numlist:\n",
    "    if num % 2==0:\n",
    "        even_count +=1\n",
    "        \n",
    "    else:\n",
    "        odd_count +=1\n",
    "        \n",
    "print(\"Total even numbers:\",even_count)\n",
    "print(\"Total odd numbers:\",odd_count)\n"
   ]
  },
  {
   "cell_type": "markdown",
   "id": "676a3884",
   "metadata": {},
   "source": [
    "interpretation - Here in this task there are 14 even numbers and 15 odd numbers."
   ]
  },
  {
   "cell_type": "markdown",
   "id": "32ac2674",
   "metadata": {},
   "source": [
    "### Task 4 - Appending element to a list "
   ]
  },
  {
   "cell_type": "code",
   "execution_count": 68,
   "id": "f6801205",
   "metadata": {},
   "outputs": [],
   "source": [
    "numlist =[range(1,30)]"
   ]
  },
  {
   "cell_type": "code",
   "execution_count": 57,
   "id": "3541e5cd",
   "metadata": {},
   "outputs": [
    {
     "name": "stdout",
     "output_type": "stream",
     "text": [
      "2 4 6 8 10 12 14 16 18 20 22 24 26 28 "
     ]
    }
   ],
   "source": [
    "for i in range(2,30,2):\n",
    "    print(i,end=\" \")"
   ]
  },
  {
   "cell_type": "code",
   "execution_count": 63,
   "id": "c45e99bb",
   "metadata": {},
   "outputs": [
    {
     "name": "stdout",
     "output_type": "stream",
     "text": [
      "[2, 4, 6, 8, 10]\n"
     ]
    }
   ],
   "source": [
    "el=[]\n",
    "el.append(2)\n",
    "el.append(4)\n",
    "el.append(6)\n",
    "el.append(8)\n",
    "el.append(10)\n",
    "print(el)"
   ]
  },
  {
   "cell_type": "markdown",
   "id": "c8f0b24f",
   "metadata": {},
   "source": [
    "interpretation - in this task , we have add first 5 even numbers in the range of (1,30).we have add the even numbers in new list name as el=[] ,by using append() function we have to add the value for the list"
   ]
  },
  {
   "cell_type": "markdown",
   "id": "9f333ff5",
   "metadata": {},
   "source": [
    "### Task 5 - Arithmetic operation on list element "
   ]
  },
  {
   "cell_type": "code",
   "execution_count": 2,
   "id": "40ba531b",
   "metadata": {},
   "outputs": [
    {
     "name": "stdout",
     "output_type": "stream",
     "text": [
      "1 3 5 7 9 11 13 15 17 19 21 23 25 27 29 "
     ]
    }
   ],
   "source": [
    "numlist =[range(1,30)]\n",
    "\n",
    "for num in range(1,30,2):\n",
    "    print(num,end=\" \")"
   ]
  },
  {
   "cell_type": "code",
   "execution_count": 12,
   "id": "d139da12",
   "metadata": {},
   "outputs": [
    {
     "data": {
      "text/plain": [
       "[27, 29]"
      ]
     },
     "execution_count": 12,
     "metadata": {},
     "output_type": "execute_result"
    }
   ],
   "source": [
    "num=[1, 3, 5, 7, 9, 11, 13, 15, 17, 19, 21, 23, 25, 27, 29 ]\n",
    "num[-2:]"
   ]
  },
  {
   "cell_type": "markdown",
   "id": "4f7340e0",
   "metadata": {},
   "source": [
    "interpretation - Here is the output for the last two odd numbers"
   ]
  },
  {
   "cell_type": "markdown",
   "id": "a68dfdcf",
   "metadata": {},
   "source": [
    "### Task 6 - Appending two lists "
   ]
  },
  {
   "cell_type": "code",
   "execution_count": 3,
   "id": "6ebfdb23",
   "metadata": {},
   "outputs": [],
   "source": [
    "x=[]\n",
    "y=[]"
   ]
  },
  {
   "cell_type": "code",
   "execution_count": 4,
   "id": "99ca98a2",
   "metadata": {},
   "outputs": [
    {
     "name": "stdout",
     "output_type": "stream",
     "text": [
      "Enter the string: a\n",
      "Enter the string: b\n",
      "Enter the string: c\n",
      "Enter the string: d\n",
      "Enter the string: e\n",
      "Enter the number: 1\n",
      "Enter the number: 2\n",
      "Enter the number: 3\n",
      "both x and y combined list=  ['a', 'b', 'c', 'd', 'e', 1, 2, 3]\n"
     ]
    }
   ],
   "source": [
    "for i in range(5):\n",
    "    string=input(\"Enter the string: \")\n",
    "    x.append(string)\n",
    "    \n",
    "for i in range(3):\n",
    "    number=int(input(\"Enter the number: \"))\n",
    "    y.append(number)\n",
    "    \n",
    "x.extend(y)    \n",
    "print(\"both x and y combined list= \",x)"
   ]
  },
  {
   "cell_type": "markdown",
   "id": "157408ac",
   "metadata": {},
   "source": [
    "interpretation - Her is the output for appending of two lists,the x[list]contains of 5 string values and the y[lists]consists of 3 integer values and then last combined both the list by using extend()function. "
   ]
  },
  {
   "cell_type": "markdown",
   "id": "6a2fb31e",
   "metadata": {},
   "source": [
    "### Task 7 - populating elements in a list "
   ]
  },
  {
   "cell_type": "code",
   "execution_count": 4,
   "id": "7c9edc25",
   "metadata": {},
   "outputs": [],
   "source": [
    "list_a=[]\n",
    "list_b=[]\n"
   ]
  },
  {
   "cell_type": "code",
   "execution_count": 7,
   "id": "bd21a70e",
   "metadata": {},
   "outputs": [],
   "source": [
    "for i in range(1,11):\n",
    "    list_a.append(i*i)\n",
    "    "
   ]
  },
  {
   "cell_type": "code",
   "execution_count": 8,
   "id": "64c4d9e9",
   "metadata": {},
   "outputs": [
    {
     "name": "stdout",
     "output_type": "stream",
     "text": [
      "[1, 2, 3, 4, 5, 6, 7, 8, 9, 10, 1, 4, 9, 16, 25, 36, 49, 64, 81, 100] "
     ]
    }
   ],
   "source": [
    "print(list_a,end=\" \")"
   ]
  },
  {
   "cell_type": "code",
   "execution_count": 9,
   "id": "755486a2",
   "metadata": {},
   "outputs": [],
   "source": [
    "for i in range(30,41):\n",
    "    list_b.append(i*i)"
   ]
  },
  {
   "cell_type": "code",
   "execution_count": 10,
   "id": "3957eec1",
   "metadata": {},
   "outputs": [
    {
     "name": "stdout",
     "output_type": "stream",
     "text": [
      "[900, 961, 1024, 1089, 1156, 1225, 1296, 1369, 1444, 1521, 1600] "
     ]
    }
   ],
   "source": [
    "print(list_b,end=\" \")"
   ]
  },
  {
   "cell_type": "markdown",
   "id": "4c05d87b",
   "metadata": {},
   "source": [
    "interpretation - Here is the output for square of the elements present in list_a and list\n",
    "-b"
   ]
  },
  {
   "cell_type": "markdown",
   "id": "b2070548",
   "metadata": {},
   "source": [
    "### Task 8 - iterations in python using for loop "
   ]
  },
  {
   "cell_type": "code",
   "execution_count": 13,
   "id": "9c192db8",
   "metadata": {},
   "outputs": [
    {
     "name": "stdout",
     "output_type": "stream",
     "text": [
      "Enter the number: 5\n",
      "5 * 1 5\n",
      "5 * 2 10\n",
      "5 * 3 15\n",
      "5 * 4 20\n",
      "5 * 5 25\n",
      "5 * 6 30\n",
      "5 * 7 35\n",
      "5 * 8 40\n",
      "5 * 9 45\n",
      "5 * 10 50\n"
     ]
    }
   ],
   "source": [
    "n=int(input(\"Enter the number: \"))\n",
    "for i in range(1,11):\n",
    "    print(n,\"*\",i,n*i)"
   ]
  },
  {
   "cell_type": "markdown",
   "id": "0dd17020",
   "metadata": {},
   "source": [
    "interpretation - Here is the output for,iteration in python using for loop "
   ]
  },
  {
   "cell_type": "code",
   "execution_count": null,
   "id": "95385808",
   "metadata": {},
   "outputs": [],
   "source": []
  },
  {
   "cell_type": "code",
   "execution_count": null,
   "id": "0abdd4a4",
   "metadata": {},
   "outputs": [],
   "source": []
  }
 ],
 "metadata": {
  "kernelspec": {
   "display_name": "Python 3 (ipykernel)",
   "language": "python",
   "name": "python3"
  },
  "language_info": {
   "codemirror_mode": {
    "name": "ipython",
    "version": 3
   },
   "file_extension": ".py",
   "mimetype": "text/x-python",
   "name": "python",
   "nbconvert_exporter": "python",
   "pygments_lexer": "ipython3",
   "version": "3.11.3"
  }
 },
 "nbformat": 4,
 "nbformat_minor": 5
}
