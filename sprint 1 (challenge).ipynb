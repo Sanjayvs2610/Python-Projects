{
 "cells": [
  {
   "cell_type": "markdown",
   "id": "e0bf6a77",
   "metadata": {},
   "source": [
    "### Task 1  "
   ]
  },
  {
   "cell_type": "code",
   "execution_count": 58,
   "id": "076a98f2",
   "metadata": {},
   "outputs": [],
   "source": [
    "NYK_time =22\n",
    "differ = 6\n",
    "France_time = (NYK_time + differ)%12"
   ]
  },
  {
   "cell_type": "code",
   "execution_count": 59,
   "id": "7f329741",
   "metadata": {},
   "outputs": [
    {
     "name": "stdout",
     "output_type": "stream",
     "text": [
      "France_time =  4 am\n"
     ]
    }
   ],
   "source": [
    "print(\"France_time = \",France_time,\"am\")"
   ]
  },
  {
   "cell_type": "markdown",
   "id": "cff96ead",
   "metadata": {},
   "source": [
    "interpretation - Here is the time of france ,which helps matt to wake up early"
   ]
  },
  {
   "cell_type": "markdown",
   "id": "e5993864",
   "metadata": {},
   "source": [
    "### Task 2 "
   ]
  },
  {
   "cell_type": "code",
   "execution_count": 6,
   "id": "f46fec27",
   "metadata": {},
   "outputs": [],
   "source": [
    "#1Euro = 1.1Dollar"
   ]
  },
  {
   "cell_type": "code",
   "execution_count": 85,
   "id": "38795d82",
   "metadata": {},
   "outputs": [],
   "source": [
    "service_charge_percentage = 1.75/100\n",
    "Euros = 500\n",
    "exchange_rate = 1.1"
   ]
  },
  {
   "cell_type": "code",
   "execution_count": 86,
   "id": "20646cf6",
   "metadata": {},
   "outputs": [],
   "source": [
    "dollars = Euros*exchange_rate\n",
    "service_charge = service_charge_percentage * dollars\n",
    "\n"
   ]
  },
  {
   "cell_type": "code",
   "execution_count": 87,
   "id": "83c89878",
   "metadata": {},
   "outputs": [
    {
     "name": "stdout",
     "output_type": "stream",
     "text": [
      "the number of dollars spend to get 500 Euros : 559.625\n"
     ]
    }
   ],
   "source": [
    "Amount_in_hand = dollars + service_charge\n",
    "print(\"the number of dollars spend to get 500 Euros :\",Amount_in_hand)"
   ]
  },
  {
   "cell_type": "markdown",
   "id": "c6c4117f",
   "metadata": {},
   "source": [
    "interpretation - in this program , i have calculated the expense of Matt ,where he converted dollars into euros"
   ]
  },
  {
   "cell_type": "markdown",
   "id": "142d6cbc",
   "metadata": {},
   "source": [
    "### Task 3 "
   ]
  },
  {
   "cell_type": "code",
   "execution_count": 66,
   "id": "0830b479",
   "metadata": {},
   "outputs": [],
   "source": [
    "#no_of_days_in_france = 45days\n",
    "# if per month contain 30 days then 15 days from thr next month\n",
    "\n",
    "dollars_per_month = 4800\n",
    "\n",
    "dollars_for_45days = dollars_per_month+ (dollars_per_month)*15/30\n"
   ]
  },
  {
   "cell_type": "code",
   "execution_count": 67,
   "id": "ecf5836b",
   "metadata": {},
   "outputs": [
    {
     "name": "stdout",
     "output_type": "stream",
     "text": [
      "7200.0\n"
     ]
    }
   ],
   "source": [
    "print(dollars_for_45days)"
   ]
  },
  {
   "cell_type": "markdown",
   "id": "6f13549b",
   "metadata": {},
   "source": [
    "Interpretation - Matt need 7200 dollars to spend in france for 45 days"
   ]
  },
  {
   "cell_type": "markdown",
   "id": "0326b062",
   "metadata": {},
   "source": [
    "### Task 4 "
   ]
  },
  {
   "cell_type": "code",
   "execution_count": 43,
   "id": "170b3647",
   "metadata": {},
   "outputs": [],
   "source": [
    "invested_amount= 20000\n",
    "#interest = 5per\n",
    "profit_after_1_month = invested_amount*0.05"
   ]
  },
  {
   "cell_type": "code",
   "execution_count": 50,
   "id": "90455bbb",
   "metadata": {},
   "outputs": [
    {
     "name": "stdout",
     "output_type": "stream",
     "text": [
      "the profit amount for matt: 1000.0 $\n"
     ]
    }
   ],
   "source": [
    "print(\"the profit amount for matt:\",profit_after_1_month,\"$\")"
   ]
  },
  {
   "cell_type": "markdown",
   "id": "34eb67cd",
   "metadata": {},
   "source": [
    "Interpretation - Here is amount of profit, that  matt has invested in stocks for 1 month"
   ]
  },
  {
   "cell_type": "markdown",
   "id": "1a718990",
   "metadata": {},
   "source": [
    "### Task 5 "
   ]
  },
  {
   "cell_type": "code",
   "execution_count": 47,
   "id": "20206f1a",
   "metadata": {},
   "outputs": [],
   "source": [
    "#1 kilometer = 0.602 miles\n",
    "\n",
    "tourist_walks = 12\n",
    "miles = 0.602\n",
    "\n",
    "Matt_should_walk = tourist_walks*miles"
   ]
  },
  {
   "cell_type": "code",
   "execution_count": 49,
   "id": "13cc2369",
   "metadata": {},
   "outputs": [
    {
     "name": "stdout",
     "output_type": "stream",
     "text": [
      "In NYK Matt should walk : 7.224 miles\n"
     ]
    }
   ],
   "source": [
    "print(\"In NYK Matt should walk :\",Matt_should_walk,\"miles\")"
   ]
  },
  {
   "cell_type": "markdown",
   "id": "6230afb3",
   "metadata": {},
   "source": [
    "Interpretation - In NYK Matt should walk upto 7.224 miles for to explore i france "
   ]
  },
  {
   "cell_type": "markdown",
   "id": "aacfbd5c",
   "metadata": {},
   "source": [
    "### Task  6 "
   ]
  },
  {
   "cell_type": "code",
   "execution_count": 6,
   "id": "e4ead13a",
   "metadata": {},
   "outputs": [],
   "source": [
    "#1 kilometer = 0.602 miles\n",
    "kilometer = 3328\n",
    "mile = 0.602\n",
    "\n",
    "cycling_kilometer_in_miles = kilometer*mile/1.2"
   ]
  },
  {
   "cell_type": "code",
   "execution_count": 8,
   "id": "32ce3a61",
   "metadata": {},
   "outputs": [
    {
     "name": "stdout",
     "output_type": "stream",
     "text": [
      "the total no of laps : 1669.5466666666666\n"
     ]
    }
   ],
   "source": [
    "print(\"the total no of laps :\",cycling_kilometer_in_miles,)"
   ]
  },
  {
   "cell_type": "markdown",
   "id": "492c7428",
   "metadata": {},
   "source": [
    "Interpretation - The cycle race will take upto 1669.54 Laps"
   ]
  },
  {
   "cell_type": "markdown",
   "id": "5405c6ac",
   "metadata": {},
   "source": [
    "### Task 7 "
   ]
  },
  {
   "cell_type": "code",
   "execution_count": 14,
   "id": "76c3f079",
   "metadata": {},
   "outputs": [
    {
     "name": "stdout",
     "output_type": "stream",
     "text": [
      "number_of_days_needed: 22.276666666666667\n"
     ]
    }
   ],
   "source": [
    "one_lap = 2  # time to complete one lap\n",
    "break_after_laps = 5  # after 5 laps, 10 min break and also lunch break for 1 hour\n",
    "total_time_hours = 10  # total time for biking in hours\n",
    "break_time_minutes = 10\n",
    "lunch_break = 1  # time for lunch break = 1 hour\n",
    "total_distance = 3328  # total distance in laps\n",
    "\n",
    "total_biking_time_minutes = (total_distance * one_lap)  # Corrected mistake\n",
    "\n",
    "# Calculate the number of breaks\n",
    "no_of_breaks = total_distance // break_after_laps\n",
    "\n",
    "total_break = no_of_breaks * break_time_minutes  # Calculate total break time in minutes\n",
    "\n",
    "# Calculate lunch break time minutes\n",
    "lunch_break_time_minutes = lunch_break * 60\n",
    "\n",
    "# Calculate total timing including lunch breaks and breaks\n",
    "total_break_time_in_minutes = total_biking_time_minutes + total_break + lunch_break_time_minutes\n",
    "\n",
    "# Calculate the number of days needed\n",
    "num_days = total_break_time_in_minutes / (total_time_hours * 60)  # Corrected mistake\n",
    "\n",
    "print(\"number_of_days_needed:\", num_days)\n"
   ]
  },
  {
   "cell_type": "markdown",
   "id": "2e759fdb",
   "metadata": {},
   "source": [
    "Interpretation - the no of days to complete the kilometer of 3328 is 22.27 days"
   ]
  },
  {
   "cell_type": "markdown",
   "id": "391e854a",
   "metadata": {},
   "source": [
    "### Task 8 "
   ]
  },
  {
   "cell_type": "code",
   "execution_count": 8,
   "id": "64b5d6a9",
   "metadata": {},
   "outputs": [],
   "source": [
    "# 1 oz = 30 ml\n",
    "bottle_size = 750\n",
    "oz = 30\n",
    "days = 15\n",
    "per_night = 30"
   ]
  },
  {
   "cell_type": "code",
   "execution_count": 9,
   "id": "a01b4775",
   "metadata": {},
   "outputs": [],
   "source": [
    "juice_quantity = per_night*15\n",
    "no_of_bottles = (juice_quantity*10)//bottle_size"
   ]
  },
  {
   "cell_type": "code",
   "execution_count": 10,
   "id": "c21384f6",
   "metadata": {},
   "outputs": [
    {
     "data": {
      "text/plain": [
       "6"
      ]
     },
     "execution_count": 10,
     "metadata": {},
     "output_type": "execute_result"
    }
   ],
   "source": [
    "juice_quantity\n",
    "no_of_bottles"
   ]
  },
  {
   "cell_type": "markdown",
   "id": "180000ca",
   "metadata": {},
   "source": [
    "Interpretation - Matt need 6 bottles of grape juice for 2 weeks"
   ]
  },
  {
   "cell_type": "code",
   "execution_count": null,
   "id": "a4bc6295",
   "metadata": {},
   "outputs": [],
   "source": []
  },
  {
   "cell_type": "code",
   "execution_count": null,
   "id": "0827deee",
   "metadata": {},
   "outputs": [],
   "source": []
  }
 ],
 "metadata": {
  "kernelspec": {
   "display_name": "Python 3 (ipykernel)",
   "language": "python",
   "name": "python3"
  },
  "language_info": {
   "codemirror_mode": {
    "name": "ipython",
    "version": 3
   },
   "file_extension": ".py",
   "mimetype": "text/x-python",
   "name": "python",
   "nbconvert_exporter": "python",
   "pygments_lexer": "ipython3",
   "version": "3.11.3"
  }
 },
 "nbformat": 4,
 "nbformat_minor": 5
}
